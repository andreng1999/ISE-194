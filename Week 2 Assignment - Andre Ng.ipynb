{
 "cells": [
  {
   "cell_type": "code",
   "execution_count": 2,
   "metadata": {},
   "outputs": [],
   "source": [
    "import pandas as pd                 "
   ]
  },
  {
   "cell_type": "markdown",
   "metadata": {},
   "source": [
    "Data source: https://www.kaggle.com/gpreda/covid-world-vaccination-progress"
   ]
  },
  {
   "cell_type": "code",
   "execution_count": 37,
   "metadata": {},
   "outputs": [],
   "source": [
    "data = pd.read_csv(\"country_vaccinations.csv\")"
   ]
  },
  {
   "cell_type": "markdown",
   "metadata": {},
   "source": [
    "What is the average vaccinations per country?"
   ]
  },
  {
   "cell_type": "code",
   "execution_count": 102,
   "metadata": {},
   "outputs": [
    {
     "name": "stdout",
     "output_type": "stream",
     "text": [
      "1653452\n"
     ]
    }
   ],
   "source": [
    "countrytotal= data.groupby([\"country\"])[\"total_vaccinations\"].max()\n",
    "number1 = (countrytotal.sum())/(countrytotal.count())\n",
    "print(round(number1))"
   ]
  },
  {
   "cell_type": "markdown",
   "metadata": {},
   "source": [
    "# "
   ]
  },
  {
   "cell_type": "markdown",
   "metadata": {},
   "source": [
    "What is the average people fully vaccinated per country?"
   ]
  },
  {
   "cell_type": "code",
   "execution_count": 103,
   "metadata": {},
   "outputs": [
    {
     "name": "stdout",
     "output_type": "stream",
     "text": [
      "country\n",
      "Argentina                146301.0\n",
      "Austria                   39329.0\n",
      "Belgium                   44127.0\n",
      "Bulgaria                  17096.0\n",
      "Canada                    27776.0\n",
      "Cayman Islands             3197.0\n",
      "Chile                     10636.0\n",
      "Costa Rica                11838.0\n",
      "Croatia                   28865.0\n",
      "Cyprus                     5551.0\n",
      "Czechia                   78434.0\n",
      "Denmark                  105122.0\n",
      "England                  466171.0\n",
      "Estonia                   15871.0\n",
      "Faeroe Islands                1.0\n",
      "Finland                   34293.0\n",
      "France                   138956.0\n",
      "Germany                  834398.0\n",
      "Gibraltar                  3011.0\n",
      "Greece                    68464.0\n",
      "Guernsey                    522.0\n",
      "Hungary                   92773.0\n",
      "Iceland                    4855.0\n",
      "Indonesia                120725.0\n",
      "Ireland                   67000.0\n",
      "Isle of Man                2183.0\n",
      "Israel                  1965959.0\n",
      "Italy                    956389.0\n",
      "Jersey                     3131.0\n",
      "Lithuania                 37165.0\n",
      "Luxembourg                 2810.0\n",
      "Malta                      5410.0\n",
      "Mexico                    60742.0\n",
      "Northern Ireland          25539.0\n",
      "Norway                    30066.0\n",
      "Oman                      12272.0\n",
      "Poland                   395375.0\n",
      "Portugal                  84975.0\n",
      "Romania                  165516.0\n",
      "Scotland                   9031.0\n",
      "Seychelles                    5.0\n",
      "Singapore                  6000.0\n",
      "Slovakia                  22932.0\n",
      "Slovenia                  29810.0\n",
      "Spain                    586122.0\n",
      "Sweden                    44370.0\n",
      "United Arab Emirates     250000.0\n",
      "United Kingdom           501957.0\n",
      "United States           6926050.0\n",
      "Wales                      1216.0\n",
      "Name: people_fully_vaccinated, dtype: float64\n",
      "289807\n"
     ]
    }
   ],
   "source": [
    "countryfully= data.groupby([\"country\"])[\"people_fully_vaccinated\"].max()\n",
    "countryfully=countryfully.dropna()\n",
    "print(countryfully)\n",
    "number2 = (countryfully.sum()) / (countryfully.count())\n",
    "print(round(number2))\n"
   ]
  },
  {
   "cell_type": "markdown",
   "metadata": {},
   "source": [
    "# "
   ]
  },
  {
   "cell_type": "markdown",
   "metadata": {},
   "source": [
    "Which combination of vaccines was used the most?"
   ]
  },
  {
   "cell_type": "code",
   "execution_count": 101,
   "metadata": {},
   "outputs": [
    {
     "name": "stdout",
     "output_type": "stream",
     "text": [
      "Pfizer/BioNTech                          37\n",
      "Moderna, Pfizer/BioNTech                 14\n",
      "Oxford/AstraZeneca                        6\n",
      "Oxford/AstraZeneca, Pfizer/BioNTech       5\n",
      "Sputnik V                                 4\n",
      "Pfizer/BioNTech, Sinovac                  2\n",
      "Oxford/AstraZeneca, Sinopharm             2\n",
      "Sinovac                                   2\n",
      "Pfizer/BioNTech, Sinopharm                2\n",
      "Sinopharm                                 1\n",
      "Covaxin, Oxford/AstraZeneca               1\n",
      "CNBG, Sinovac                             1\n",
      "Oxford/AstraZeneca, Sinovac               1\n",
      "Pfizer/BioNTech, Sinopharm, Sputnik V     1\n",
      "Name: vaccines, dtype: int64\n"
     ]
    }
   ],
   "source": [
    "countryVaccinescombo = data.drop_duplicates([\"country\"])\n",
    "print(countryVaccinescombo[\"vaccines\"].value_counts())"
   ]
  },
  {
   "cell_type": "markdown",
   "metadata": {},
   "source": [
    "Pfizer/BioNTech "
   ]
  }
 ],
 "metadata": {
  "kernelspec": {
   "display_name": "Python 3",
   "language": "python",
   "name": "python3"
  },
  "language_info": {
   "codemirror_mode": {
    "name": "ipython",
    "version": 3
   },
   "file_extension": ".py",
   "mimetype": "text/x-python",
   "name": "python",
   "nbconvert_exporter": "python",
   "pygments_lexer": "ipython3",
   "version": "3.8.5"
  }
 },
 "nbformat": 4,
 "nbformat_minor": 4
}
