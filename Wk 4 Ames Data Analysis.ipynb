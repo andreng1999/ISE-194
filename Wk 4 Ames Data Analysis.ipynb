{
 "cells": [
  {
   "cell_type": "markdown",
   "metadata": {},
   "source": [
    "<div class=\"alert alert-block alert-info\">\n",
    "    \n",
    "# Ames Data Analysis\n"
   ]
  },
  {
   "cell_type": "markdown",
   "metadata": {},
   "source": [
    "<div class=\"alert alert-block alert-warning\">\n",
    "    \n",
    "# This notebook is just for illustrative purposes. The model fit here is *_not_* the best model for the data."
   ]
  },
  {
   "cell_type": "code",
   "execution_count": 15,
   "metadata": {},
   "outputs": [],
   "source": [
    "# This piece of code enables display of multiple output from one cell.\n",
    "from IPython.core.interactiveshell import InteractiveShell\n",
    "InteractiveShell.ast_node_interactivity = 'all'"
   ]
  },
  {
   "cell_type": "code",
   "execution_count": 16,
   "metadata": {},
   "outputs": [],
   "source": [
    "import pandas as pd\n",
    "import numpy as np\n",
    "from scipy import stats\n",
    "import matplotlib.pyplot as plt\n",
    "import seaborn as sns"
   ]
  },
  {
   "cell_type": "markdown",
   "metadata": {},
   "source": [
    "## Loading Data"
   ]
  },
  {
   "cell_type": "code",
   "execution_count": 17,
   "metadata": {},
   "outputs": [
    {
     "name": "stdout",
     "output_type": "stream",
     "text": [
      " Dimensions of the imported dataset is: (2930, 81)\n"
     ]
    }
   ],
   "source": [
    "ames = pd.read_csv(\"AmesHousing.csv\", index_col=\"Order\")\n",
    "# Check dimensions of the data\n",
    "print(\" Dimensions of the imported dataset is: \" + str(ames.shape))"
   ]
  },
  {
   "cell_type": "code",
   "execution_count": 18,
   "metadata": {},
   "outputs": [
    {
     "data": {
      "text/html": [
       "<div>\n",
       "<style scoped>\n",
       "    .dataframe tbody tr th:only-of-type {\n",
       "        vertical-align: middle;\n",
       "    }\n",
       "\n",
       "    .dataframe tbody tr th {\n",
       "        vertical-align: top;\n",
       "    }\n",
       "\n",
       "    .dataframe thead th {\n",
       "        text-align: right;\n",
       "    }\n",
       "</style>\n",
       "<table border=\"1\" class=\"dataframe\">\n",
       "  <thead>\n",
       "    <tr style=\"text-align: right;\">\n",
       "      <th></th>\n",
       "      <th>PID</th>\n",
       "      <th>MS SubClass</th>\n",
       "      <th>MS Zoning</th>\n",
       "      <th>Lot Frontage</th>\n",
       "      <th>Lot Area</th>\n",
       "      <th>Street</th>\n",
       "      <th>Alley</th>\n",
       "      <th>Lot Shape</th>\n",
       "      <th>Land Contour</th>\n",
       "      <th>Utilities</th>\n",
       "      <th>...</th>\n",
       "      <th>Pool Area</th>\n",
       "      <th>Pool QC</th>\n",
       "      <th>Fence</th>\n",
       "      <th>Misc Feature</th>\n",
       "      <th>Misc Val</th>\n",
       "      <th>Mo Sold</th>\n",
       "      <th>Yr Sold</th>\n",
       "      <th>Sale Type</th>\n",
       "      <th>Sale Condition</th>\n",
       "      <th>SalePrice</th>\n",
       "    </tr>\n",
       "    <tr>\n",
       "      <th>Order</th>\n",
       "      <th></th>\n",
       "      <th></th>\n",
       "      <th></th>\n",
       "      <th></th>\n",
       "      <th></th>\n",
       "      <th></th>\n",
       "      <th></th>\n",
       "      <th></th>\n",
       "      <th></th>\n",
       "      <th></th>\n",
       "      <th></th>\n",
       "      <th></th>\n",
       "      <th></th>\n",
       "      <th></th>\n",
       "      <th></th>\n",
       "      <th></th>\n",
       "      <th></th>\n",
       "      <th></th>\n",
       "      <th></th>\n",
       "      <th></th>\n",
       "      <th></th>\n",
       "    </tr>\n",
       "  </thead>\n",
       "  <tbody>\n",
       "    <tr>\n",
       "      <th>1</th>\n",
       "      <td>526301100</td>\n",
       "      <td>20</td>\n",
       "      <td>RL</td>\n",
       "      <td>141.0</td>\n",
       "      <td>31770</td>\n",
       "      <td>Pave</td>\n",
       "      <td>NaN</td>\n",
       "      <td>IR1</td>\n",
       "      <td>Lvl</td>\n",
       "      <td>AllPub</td>\n",
       "      <td>...</td>\n",
       "      <td>0</td>\n",
       "      <td>NaN</td>\n",
       "      <td>NaN</td>\n",
       "      <td>NaN</td>\n",
       "      <td>0</td>\n",
       "      <td>5</td>\n",
       "      <td>2010</td>\n",
       "      <td>WD</td>\n",
       "      <td>Normal</td>\n",
       "      <td>215000</td>\n",
       "    </tr>\n",
       "    <tr>\n",
       "      <th>2</th>\n",
       "      <td>526350040</td>\n",
       "      <td>20</td>\n",
       "      <td>RH</td>\n",
       "      <td>80.0</td>\n",
       "      <td>11622</td>\n",
       "      <td>Pave</td>\n",
       "      <td>NaN</td>\n",
       "      <td>Reg</td>\n",
       "      <td>Lvl</td>\n",
       "      <td>AllPub</td>\n",
       "      <td>...</td>\n",
       "      <td>0</td>\n",
       "      <td>NaN</td>\n",
       "      <td>MnPrv</td>\n",
       "      <td>NaN</td>\n",
       "      <td>0</td>\n",
       "      <td>6</td>\n",
       "      <td>2010</td>\n",
       "      <td>WD</td>\n",
       "      <td>Normal</td>\n",
       "      <td>105000</td>\n",
       "    </tr>\n",
       "    <tr>\n",
       "      <th>3</th>\n",
       "      <td>526351010</td>\n",
       "      <td>20</td>\n",
       "      <td>RL</td>\n",
       "      <td>81.0</td>\n",
       "      <td>14267</td>\n",
       "      <td>Pave</td>\n",
       "      <td>NaN</td>\n",
       "      <td>IR1</td>\n",
       "      <td>Lvl</td>\n",
       "      <td>AllPub</td>\n",
       "      <td>...</td>\n",
       "      <td>0</td>\n",
       "      <td>NaN</td>\n",
       "      <td>NaN</td>\n",
       "      <td>Gar2</td>\n",
       "      <td>12500</td>\n",
       "      <td>6</td>\n",
       "      <td>2010</td>\n",
       "      <td>WD</td>\n",
       "      <td>Normal</td>\n",
       "      <td>172000</td>\n",
       "    </tr>\n",
       "    <tr>\n",
       "      <th>4</th>\n",
       "      <td>526353030</td>\n",
       "      <td>20</td>\n",
       "      <td>RL</td>\n",
       "      <td>93.0</td>\n",
       "      <td>11160</td>\n",
       "      <td>Pave</td>\n",
       "      <td>NaN</td>\n",
       "      <td>Reg</td>\n",
       "      <td>Lvl</td>\n",
       "      <td>AllPub</td>\n",
       "      <td>...</td>\n",
       "      <td>0</td>\n",
       "      <td>NaN</td>\n",
       "      <td>NaN</td>\n",
       "      <td>NaN</td>\n",
       "      <td>0</td>\n",
       "      <td>4</td>\n",
       "      <td>2010</td>\n",
       "      <td>WD</td>\n",
       "      <td>Normal</td>\n",
       "      <td>244000</td>\n",
       "    </tr>\n",
       "  </tbody>\n",
       "</table>\n",
       "<p>4 rows × 81 columns</p>\n",
       "</div>"
      ],
      "text/plain": [
       "             PID  MS SubClass MS Zoning  Lot Frontage  Lot Area Street Alley  \\\n",
       "Order                                                                          \n",
       "1      526301100           20        RL         141.0     31770   Pave   NaN   \n",
       "2      526350040           20        RH          80.0     11622   Pave   NaN   \n",
       "3      526351010           20        RL          81.0     14267   Pave   NaN   \n",
       "4      526353030           20        RL          93.0     11160   Pave   NaN   \n",
       "\n",
       "      Lot Shape Land Contour Utilities  ... Pool Area Pool QC  Fence  \\\n",
       "Order                                   ...                            \n",
       "1           IR1          Lvl    AllPub  ...         0     NaN    NaN   \n",
       "2           Reg          Lvl    AllPub  ...         0     NaN  MnPrv   \n",
       "3           IR1          Lvl    AllPub  ...         0     NaN    NaN   \n",
       "4           Reg          Lvl    AllPub  ...         0     NaN    NaN   \n",
       "\n",
       "      Misc Feature Misc Val Mo Sold Yr Sold  Sale Type  Sale Condition  \\\n",
       "Order                                                                    \n",
       "1              NaN        0       5    2010        WD           Normal   \n",
       "2              NaN        0       6    2010        WD           Normal   \n",
       "3             Gar2    12500       6    2010        WD           Normal   \n",
       "4              NaN        0       4    2010        WD           Normal   \n",
       "\n",
       "       SalePrice  \n",
       "Order             \n",
       "1         215000  \n",
       "2         105000  \n",
       "3         172000  \n",
       "4         244000  \n",
       "\n",
       "[4 rows x 81 columns]"
      ]
     },
     "execution_count": 18,
     "metadata": {},
     "output_type": "execute_result"
    }
   ],
   "source": [
    "# Print top 2 rows in the dataset\n",
    "ames.head(4)"
   ]
  },
  {
   "cell_type": "code",
   "execution_count": 19,
   "metadata": {},
   "outputs": [],
   "source": [
    "ames.columns = ames.columns.str.replace(' ', '')\n",
    "ames.columns = [col.lower() for col in ames]\n",
    "#ames.columns"
   ]
  },
  {
   "cell_type": "code",
   "execution_count": 20,
   "metadata": {},
   "outputs": [
    {
     "name": "stdout",
     "output_type": "stream",
     "text": [
      "Number of Numerical features:  38\n",
      "Number of Categorical features:  43\n"
     ]
    }
   ],
   "source": [
    "# Marking the features or columns as numeric or categorical for easy referencce later in the code\n",
    "numericfeatures = [f for f in ames.columns if ames.dtypes[f] != 'object']\n",
    "print(\"Number of Numerical features: \", len(numericfeatures))\n",
    "\n",
    "categoricalfeatures = [f for f in ames.columns if ames.dtypes[f] == 'object']\n",
    "print(\"Number of Categorical features: \", len(categoricalfeatures))"
   ]
  },
  {
   "cell_type": "code",
   "execution_count": 21,
   "metadata": {},
   "outputs": [
    {
     "name": "stdout",
     "output_type": "stream",
     "text": [
      "numeric features: ['pid', 'mssubclass', 'lotfrontage', 'lotarea', 'overallqual', 'overallcond', 'yearbuilt', 'yearremod/add', 'masvnrarea', 'bsmtfinsf1', 'bsmtfinsf2', 'bsmtunfsf', 'totalbsmtsf', '1stflrsf', '2ndflrsf', 'lowqualfinsf', 'grlivarea', 'bsmtfullbath', 'bsmthalfbath', 'fullbath', 'halfbath', 'bedroomabvgr', 'kitchenabvgr', 'totrmsabvgrd', 'fireplaces', 'garageyrblt', 'garagecars', 'garagearea', 'wooddecksf', 'openporchsf', 'enclosedporch', '3ssnporch', 'screenporch', 'poolarea', 'miscval', 'mosold', 'yrsold', 'saleprice']\n",
      "categorical features: ['mszoning', 'street', 'alley', 'lotshape', 'landcontour', 'utilities', 'lotconfig', 'landslope', 'neighborhood', 'condition1', 'condition2', 'bldgtype', 'housestyle', 'roofstyle', 'roofmatl', 'exterior1st', 'exterior2nd', 'masvnrtype', 'exterqual', 'extercond', 'foundation', 'bsmtqual', 'bsmtcond', 'bsmtexposure', 'bsmtfintype1', 'bsmtfintype2', 'heating', 'heatingqc', 'centralair', 'electrical', 'kitchenqual', 'functional', 'fireplacequ', 'garagetype', 'garagefinish', 'garagequal', 'garagecond', 'paveddrive', 'poolqc', 'fence', 'miscfeature', 'saletype', 'salecondition']\n"
     ]
    }
   ],
   "source": [
    "print(\"numeric features: \" + str(numericfeatures))\n",
    "print(\"categorical features: \" + str(categoricalfeatures))"
   ]
  },
  {
   "cell_type": "code",
   "execution_count": 22,
   "metadata": {},
   "outputs": [
    {
     "data": {
      "text/plain": [
       "<AxesSubplot:>"
      ]
     },
     "execution_count": 22,
     "metadata": {},
     "output_type": "execute_result"
    },
    {
     "data": {
      "text/plain": [
       "count      2930.000000\n",
       "mean     180796.060068\n",
       "std       79886.692357\n",
       "min       12789.000000\n",
       "25%      129500.000000\n",
       "50%      160000.000000\n",
       "75%      213500.000000\n",
       "max      755000.000000\n",
       "Name: saleprice, dtype: float64"
      ]
     },
     "execution_count": 22,
     "metadata": {},
     "output_type": "execute_result"
    },
    {
     "data": {
      "image/png": "[encoded data removed]",
      "text/plain": [
       "<Figure size 1008x288 with 1 Axes>"
      ]
     },
     "metadata": {
      "needs_background": "light"
     },
     "output_type": "display_data"
    }
   ],
   "source": [
    "# What is the distribution of sale price\n",
    "ames['saleprice'].hist(bins=75, rwidth=.8, figsize=(14,4))\n",
    "ames['saleprice'].describe()"
   ]
  },
  {
   "cell_type": "markdown",
   "metadata": {},
   "source": [
    "The minimum sale price is at 12,789 while the maximum sale price is 755,000. The median sale price was $160,000. The distribution seems to be skewed with a few very high priced house sales on the right"
   ]
  },
  {
   "cell_type": "code",
   "execution_count": 23,
   "metadata": {},
   "outputs": [
    {
     "data": {
      "text/plain": [
       "<BarContainer object of 5 artists>"
      ]
     },
     "execution_count": 23,
     "metadata": {},
     "output_type": "execute_result"
    },
    {
     "data": {
      "image/png": "[encoded data removed]",
      "text/plain": [
       "<Figure size 432x288 with 1 Axes>"
      ]
     },
     "metadata": {
      "needs_background": "light"
     },
     "output_type": "display_data"
    }
   ],
   "source": [
    "# Date range in the data\n",
    "yax = ames.groupby(['yrsold'])['yrsold'].count()\n",
    "plt.bar(yax.index, yax)"
   ]
  },
  {
   "cell_type": "markdown",
   "metadata": {},
   "source": [
    "The data was collected from 2006 to 2010. \n",
    "Note: Data includes the 2008 downturn event. Effects of which in the data is yet to be seen"
   ]
  },
  {
   "cell_type": "code",
   "execution_count": 24,
   "metadata": {},
   "outputs": [
    {
     "data": {
      "text/html": [
       "<div>\n",
       "<style scoped>\n",
       "    .dataframe tbody tr th:only-of-type {\n",
       "        vertical-align: middle;\n",
       "    }\n",
       "\n",
       "    .dataframe tbody tr th {\n",
       "        vertical-align: top;\n",
       "    }\n",
       "\n",
       "    .dataframe thead th {\n",
       "        text-align: right;\n",
       "    }\n",
       "</style>\n",
       "<table border=\"1\" class=\"dataframe\">\n",
       "  <thead>\n",
       "    <tr style=\"text-align: right;\">\n",
       "      <th></th>\n",
       "      <th>pid</th>\n",
       "      <th>mssubclass</th>\n",
       "      <th>mszoning</th>\n",
       "      <th>lotfrontage</th>\n",
       "      <th>lotarea</th>\n",
       "      <th>street</th>\n",
       "      <th>alley</th>\n",
       "      <th>lotshape</th>\n",
       "      <th>landcontour</th>\n",
       "      <th>utilities</th>\n",
       "      <th>...</th>\n",
       "      <th>poolqc</th>\n",
       "      <th>fence</th>\n",
       "      <th>miscfeature</th>\n",
       "      <th>miscval</th>\n",
       "      <th>mosold</th>\n",
       "      <th>yrsold</th>\n",
       "      <th>saletype</th>\n",
       "      <th>salecondition</th>\n",
       "      <th>saleprice</th>\n",
       "      <th>yrmosold</th>\n",
       "    </tr>\n",
       "    <tr>\n",
       "      <th>Order</th>\n",
       "      <th></th>\n",
       "      <th></th>\n",
       "      <th></th>\n",
       "      <th></th>\n",
       "      <th></th>\n",
       "      <th></th>\n",
       "      <th></th>\n",
       "      <th></th>\n",
       "      <th></th>\n",
       "      <th></th>\n",
       "      <th></th>\n",
       "      <th></th>\n",
       "      <th></th>\n",
       "      <th></th>\n",
       "      <th></th>\n",
       "      <th></th>\n",
       "      <th></th>\n",
       "      <th></th>\n",
       "      <th></th>\n",
       "      <th></th>\n",
       "      <th></th>\n",
       "    </tr>\n",
       "  </thead>\n",
       "  <tbody>\n",
       "    <tr>\n",
       "      <th>1</th>\n",
       "      <td>526301100</td>\n",
       "      <td>20</td>\n",
       "      <td>RL</td>\n",
       "      <td>141.0</td>\n",
       "      <td>31770</td>\n",
       "      <td>Pave</td>\n",
       "      <td>NaN</td>\n",
       "      <td>IR1</td>\n",
       "      <td>Lvl</td>\n",
       "      <td>AllPub</td>\n",
       "      <td>...</td>\n",
       "      <td>NaN</td>\n",
       "      <td>NaN</td>\n",
       "      <td>NaN</td>\n",
       "      <td>0</td>\n",
       "      <td>5</td>\n",
       "      <td>2010</td>\n",
       "      <td>WD</td>\n",
       "      <td>Normal</td>\n",
       "      <td>215000</td>\n",
       "      <td>2010-05-10</td>\n",
       "    </tr>\n",
       "    <tr>\n",
       "      <th>2</th>\n",
       "      <td>526350040</td>\n",
       "      <td>20</td>\n",
       "      <td>RH</td>\n",
       "      <td>80.0</td>\n",
       "      <td>11622</td>\n",
       "      <td>Pave</td>\n",
       "      <td>NaN</td>\n",
       "      <td>Reg</td>\n",
       "      <td>Lvl</td>\n",
       "      <td>AllPub</td>\n",
       "      <td>...</td>\n",
       "      <td>NaN</td>\n",
       "      <td>MnPrv</td>\n",
       "      <td>NaN</td>\n",
       "      <td>0</td>\n",
       "      <td>6</td>\n",
       "      <td>2010</td>\n",
       "      <td>WD</td>\n",
       "      <td>Normal</td>\n",
       "      <td>105000</td>\n",
       "      <td>2010-06-10</td>\n",
       "    </tr>\n",
       "    <tr>\n",
       "      <th>3</th>\n",
       "      <td>526351010</td>\n",
       "      <td>20</td>\n",
       "      <td>RL</td>\n",
       "      <td>81.0</td>\n",
       "      <td>14267</td>\n",
       "      <td>Pave</td>\n",
       "      <td>NaN</td>\n",
       "      <td>IR1</td>\n",
       "      <td>Lvl</td>\n",
       "      <td>AllPub</td>\n",
       "      <td>...</td>\n",
       "      <td>NaN</td>\n",
       "      <td>NaN</td>\n",
       "      <td>Gar2</td>\n",
       "      <td>12500</td>\n",
       "      <td>6</td>\n",
       "      <td>2010</td>\n",
       "      <td>WD</td>\n",
       "      <td>Normal</td>\n",
       "      <td>172000</td>\n",
       "      <td>2010-06-10</td>\n",
       "    </tr>\n",
       "    <tr>\n",
       "      <th>4</th>\n",
       "      <td>526353030</td>\n",
       "      <td>20</td>\n",
       "      <td>RL</td>\n",
       "      <td>93.0</td>\n",
       "      <td>11160</td>\n",
       "      <td>Pave</td>\n",
       "      <td>NaN</td>\n",
       "      <td>Reg</td>\n",
       "      <td>Lvl</td>\n",
       "      <td>AllPub</td>\n",
       "      <td>...</td>\n",
       "      <td>NaN</td>\n",
       "      <td>NaN</td>\n",
       "      <td>NaN</td>\n",
       "      <td>0</td>\n",
       "      <td>4</td>\n",
       "      <td>2010</td>\n",
       "      <td>WD</td>\n",
       "      <td>Normal</td>\n",
       "      <td>244000</td>\n",
       "      <td>2010-04-10</td>\n",
       "    </tr>\n",
       "    <tr>\n",
       "      <th>5</th>\n",
       "      <td>527105010</td>\n",
       "      <td>60</td>\n",
       "      <td>RL</td>\n",
       "      <td>74.0</td>\n",
       "      <td>13830</td>\n",
       "      <td>Pave</td>\n",
       "      <td>NaN</td>\n",
       "      <td>IR1</td>\n",
       "      <td>Lvl</td>\n",
       "      <td>AllPub</td>\n",
       "      <td>...</td>\n",
       "      <td>NaN</td>\n",
       "      <td>MnPrv</td>\n",
       "      <td>NaN</td>\n",
       "      <td>0</td>\n",
       "      <td>3</td>\n",
       "      <td>2010</td>\n",
       "      <td>WD</td>\n",
       "      <td>Normal</td>\n",
       "      <td>189900</td>\n",
       "      <td>2010-03-10</td>\n",
       "    </tr>\n",
       "  </tbody>\n",
       "</table>\n",
       "<p>5 rows × 82 columns</p>\n",
       "</div>"
      ],
      "text/plain": [
       "             pid  mssubclass mszoning  lotfrontage  lotarea street alley  \\\n",
       "Order                                                                      \n",
       "1      526301100          20       RL        141.0    31770   Pave   NaN   \n",
       "2      526350040          20       RH         80.0    11622   Pave   NaN   \n",
       "3      526351010          20       RL         81.0    14267   Pave   NaN   \n",
       "4      526353030          20       RL         93.0    11160   Pave   NaN   \n",
       "5      527105010          60       RL         74.0    13830   Pave   NaN   \n",
       "\n",
       "      lotshape landcontour utilities  ... poolqc  fence miscfeature miscval  \\\n",
       "Order                                 ...                                     \n",
       "1          IR1         Lvl    AllPub  ...    NaN    NaN         NaN       0   \n",
       "2          Reg         Lvl    AllPub  ...    NaN  MnPrv         NaN       0   \n",
       "3          IR1         Lvl    AllPub  ...    NaN    NaN        Gar2   12500   \n",
       "4          Reg         Lvl    AllPub  ...    NaN    NaN         NaN       0   \n",
       "5          IR1         Lvl    AllPub  ...    NaN  MnPrv         NaN       0   \n",
       "\n",
       "      mosold yrsold saletype  salecondition  saleprice    yrmosold  \n",
       "Order                                                               \n",
       "1          5   2010      WD          Normal     215000  2010-05-10  \n",
       "2          6   2010      WD          Normal     105000  2010-06-10  \n",
       "3          6   2010      WD          Normal     172000  2010-06-10  \n",
       "4          4   2010      WD          Normal     244000  2010-04-10  \n",
       "5          3   2010      WD          Normal     189900  2010-03-10  \n",
       "\n",
       "[5 rows x 82 columns]"
      ]
     },
     "execution_count": 24,
     "metadata": {},
     "output_type": "execute_result"
    }
   ],
   "source": [
    "from datetime import date\n",
    "date_sold = pd.DataFrame({'year': ames['yrsold'], 'month' : ames['mosold']})\n",
    "\n",
    "DATE = []\n",
    "for yr, mo in zip(date_sold.year, date_sold.month):\n",
    "    DATE.append(date(yr, mo, 10))\n",
    "\n",
    "ames['yrmosold'] = DATE\n",
    "ames.head()"
   ]
  },
  {
   "cell_type": "code",
   "execution_count": 25,
   "metadata": {},
   "outputs": [
    {
     "data": {
      "text/plain": [
       "<AxesSubplot:xlabel='yrmosold'>"
      ]
     },
     "execution_count": 25,
     "metadata": {},
     "output_type": "execute_result"
    },
    {
     "data": {
      "text/plain": [
       "Text(0.5, 1.0, 'Seasonality in Houses sold')"
      ]
     },
     "execution_count": 25,
     "metadata": {},
     "output_type": "execute_result"
    },
    {
     "data": {
      "text/plain": [
       "Text(0, 0.5, '# of houses sold')"
      ]
     },
     "execution_count": 25,
     "metadata": {},
     "output_type": "execute_result"
    },
    {
     "data": {
      "text/plain": [
       "Text(0.5, 0, 'Sale Year-Month')"
      ]
     },
     "execution_count": 25,
     "metadata": {},
     "output_type": "execute_result"
    },
    {
     "data": {
      "image/png": "[encoded data removed]",
      "text/plain": [
       "<Figure size 1008x288 with 1 Axes>"
      ]
     },
     "metadata": {
      "needs_background": "light"
     },
     "output_type": "display_data"
    }
   ],
   "source": [
    "# Is there seasonality in house sales\n",
    "ames.groupby(['yrmosold']).pid.count().plot(kind='line', figsize=(14,4))\n",
    "plt.title('Seasonality in Houses sold')\n",
    "plt.ylabel('# of houses sold')\n",
    "plt.xlabel('Sale Year-Month')"
   ]
  },
  {
   "cell_type": "markdown",
   "metadata": {},
   "source": [
    "There is a clear seasonal pattern in house sales, peaking in summer. However 2010 seems to be different from the previous few years in number of houses sold."
   ]
  },
  {
   "cell_type": "code",
   "execution_count": 26,
   "metadata": {},
   "outputs": [
    {
     "data": {
      "text/plain": [
       "<AxesSubplot:xlabel='neighborhood'>"
      ]
     },
     "execution_count": 26,
     "metadata": {},
     "output_type": "execute_result"
    },
    {
     "data": {
      "text/plain": [
       "Text(0.5, 1.0, 'Number of houses sold by neighborhood')"
      ]
     },
     "execution_count": 26,
     "metadata": {},
     "output_type": "execute_result"
    },
    {
     "data": {
      "text/plain": [
       "Text(0, 0.5, '# of houses sold')"
      ]
     },
     "execution_count": 26,
     "metadata": {},
     "output_type": "execute_result"
    },
    {
     "data": {
      "text/plain": [
       "<AxesSubplot:title={'center':'saleprice'}, xlabel='[neighborhood]'>"
      ]
     },
     "execution_count": 26,
     "metadata": {},
     "output_type": "execute_result"
    },
    {
     "data": {
      "image/png": "[encoded data removed]",
      "text/plain": [
       "<Figure size 1008x288 with 1 Axes>"
      ]
     },
     "metadata": {
      "needs_background": "light"
     },
     "output_type": "display_data"
    },
    {
     "data": {
      "image/png": "[encoded data removed]",
      "text/plain": [
       "<Figure size 1440x1080 with 1 Axes>"
      ]
     },
     "metadata": {
      "needs_background": "light"
     },
     "output_type": "display_data"
    }
   ],
   "source": [
    "ames.groupby(['neighborhood']).pid.count().sort_values(ascending=False).plot(kind='bar', figsize=(14,4))\n",
    "plt.title('Number of houses sold by neighborhood')\n",
    "plt.ylabel('# of houses sold')\n",
    "\n",
    "ames[['saleprice','neighborhood']].boxplot(column=['saleprice'], by=['neighborhood']\n",
    "                                           ,rot=45, fontsize=15, figsize=(20,15))"
   ]
  },
  {
   "cell_type": "markdown",
   "metadata": {},
   "source": [
    "NAmes had the highest number of house sold in the sample data. NWAmes had a few houses sold at the highest price in the dataset."
   ]
  },
  {
   "cell_type": "markdown",
   "metadata": {},
   "source": [
    "## Clean Data\n",
    "\n",
    "1. Drop duplicates\n",
    "2. Handle missing values"
   ]
  },
  {
   "cell_type": "markdown",
   "metadata": {},
   "source": [
    "#### Check and Drop Duplicates"
   ]
  },
  {
   "cell_type": "code",
   "execution_count": 27,
   "metadata": {},
   "outputs": [
    {
     "name": "stdout",
     "output_type": "stream",
     "text": [
      "0 duplicate rows dropped from the the dataset\n"
     ]
    }
   ],
   "source": [
    "# Drop duplicates\n",
    "before = ames.shape[0]\n",
    "ames.drop_duplicates(inplace = True, keep = 'last')\n",
    "rows_dropped = before - ames.shape[0]\n",
    "print(str(rows_dropped) + ' ' +  \"duplicate rows dropped from the the dataset\")"
   ]
  },
  {
   "cell_type": "markdown",
   "metadata": {},
   "source": [
    "#### Check and Handle Missing Values"
   ]
  },
  {
   "cell_type": "code",
   "execution_count": 28,
   "metadata": {},
   "outputs": [
    {
     "name": "stdout",
     "output_type": "stream",
     "text": [
      "Columns by % of missing values in descending order\n"
     ]
    },
    {
     "data": {
      "text/plain": [
       "poolqc          99.556314\n",
       "miscfeature     96.382253\n",
       "alley           93.242321\n",
       "fence           80.477816\n",
       "fireplacequ     48.532423\n",
       "lotfrontage     16.723549\n",
       "garageyrblt      5.426621\n",
       "garagecond       5.426621\n",
       "garagequal       5.426621\n",
       "garagefinish     5.426621\n",
       "garagetype       5.358362\n",
       "bsmtexposure     2.832765\n",
       "bsmtfintype2     2.764505\n",
       "bsmtcond         2.730375\n",
       "bsmtqual         2.730375\n",
       "bsmtfintype1     2.730375\n",
       "masvnrtype       0.784983\n",
       "masvnrarea       0.784983\n",
       "bsmthalfbath     0.068259\n",
       "bsmtfullbath     0.068259\n",
       "garagecars       0.034130\n",
       "bsmtfinsf2       0.034130\n",
       "bsmtfinsf1       0.034130\n",
       "bsmtunfsf        0.034130\n",
       "totalbsmtsf      0.034130\n",
       "garagearea       0.034130\n",
       "electrical       0.034130\n",
       "dtype: float64"
      ]
     },
     "execution_count": 28,
     "metadata": {},
     "output_type": "execute_result"
    }
   ],
   "source": [
    "#Check for missing values\n",
    "print(\"Columns by % of missing values in descending order\")\n",
    "ames.isnull().sum()[ames.isnull().sum()>0].sort_values(ascending = False)*100/ames.shape[0]"
   ]
  },
  {
   "cell_type": "code",
   "execution_count": 29,
   "metadata": {},
   "outputs": [],
   "source": [
    "# Since most of the categorical data that is missing is due to absence of feature in the home. \n",
    "# So we are imputing the missing values with \"none\" \n",
    "# Impute missing values\n",
    "\n",
    "\n",
    "for col in categoricalfeatures:\n",
    "    ames[col].fillna('none',inplace=True)"
   ]
  },
  {
   "cell_type": "code",
   "execution_count": 30,
   "metadata": {},
   "outputs": [],
   "source": [
    "# To illustrate, we are imputing the missing values for numeric features with median.\n",
    "ames.fillna(ames.median(), inplace=True)"
   ]
  },
  {
   "cell_type": "code",
   "execution_count": 31,
   "metadata": {},
   "outputs": [
    {
     "name": "stdout",
     "output_type": "stream",
     "text": [
      "Columns by % of missing values in descending order\n"
     ]
    },
    {
     "data": {
      "text/plain": [
       "Series([], dtype: float64)"
      ]
     },
     "execution_count": 31,
     "metadata": {},
     "output_type": "execute_result"
    }
   ],
   "source": [
    "#Check for missing values\n",
    "print(\"Columns by % of missing values in descending order\")\n",
    "ames.isnull().sum()[ames.isnull().sum()>0].sort_values(ascending = False)*100/ames.shape[0]"
   ]
  },
  {
   "cell_type": "markdown",
   "metadata": {},
   "source": [
    "## EDA"
   ]
  },
  {
   "cell_type": "markdown",
   "metadata": {},
   "source": [
    "### Univariate"
   ]
  },
  {
   "cell_type": "code",
   "execution_count": 32,
   "metadata": {},
   "outputs": [
    {
     "data": {
      "text/plain": [
       "array([[<AxesSubplot:title={'center':'pid'}>,\n",
       "        <AxesSubplot:title={'center':'mssubclass'}>,\n",
       "        <AxesSubplot:title={'center':'lotfrontage'}>,\n",
       "        <AxesSubplot:title={'center':'lotarea'}>,\n",
       "        <AxesSubplot:title={'center':'overallqual'}>,\n",
       "        <AxesSubplot:title={'center':'overallcond'}>],\n",
       "       [<AxesSubplot:title={'center':'yearbuilt'}>,\n",
       "        <AxesSubplot:title={'center':'yearremod/add'}>,\n",
       "        <AxesSubplot:title={'center':'masvnrarea'}>,\n",
       "        <AxesSubplot:title={'center':'bsmtfinsf1'}>,\n",
       "        <AxesSubplot:title={'center':'bsmtfinsf2'}>,\n",
       "        <AxesSubplot:title={'center':'bsmtunfsf'}>],\n",
       "       [<AxesSubplot:title={'center':'totalbsmtsf'}>,\n",
       "        <AxesSubplot:title={'center':'1stflrsf'}>,\n",
       "        <AxesSubplot:title={'center':'2ndflrsf'}>,\n",
       "        <AxesSubplot:title={'center':'lowqualfinsf'}>,\n",
       "        <AxesSubplot:title={'center':'grlivarea'}>,\n",
       "        <AxesSubplot:title={'center':'bsmtfullbath'}>],\n",
       "       [<AxesSubplot:title={'center':'bsmthalfbath'}>,\n",
       "        <AxesSubplot:title={'center':'fullbath'}>,\n",
       "        <AxesSubplot:title={'center':'halfbath'}>,\n",
       "        <AxesSubplot:title={'center':'bedroomabvgr'}>,\n",
       "        <AxesSubplot:title={'center':'kitchenabvgr'}>,\n",
       "        <AxesSubplot:title={'center':'totrmsabvgrd'}>],\n",
       "       [<AxesSubplot:title={'center':'fireplaces'}>,\n",
       "        <AxesSubplot:title={'center':'garageyrblt'}>,\n",
       "        <AxesSubplot:title={'center':'garagecars'}>,\n",
       "        <AxesSubplot:title={'center':'garagearea'}>,\n",
       "        <AxesSubplot:title={'center':'wooddecksf'}>,\n",
       "        <AxesSubplot:title={'center':'openporchsf'}>],\n",
       "       [<AxesSubplot:title={'center':'enclosedporch'}>,\n",
       "        <AxesSubplot:title={'center':'3ssnporch'}>,\n",
       "        <AxesSubplot:title={'center':'screenporch'}>,\n",
       "        <AxesSubplot:title={'center':'poolarea'}>,\n",
       "        <AxesSubplot:title={'center':'miscval'}>,\n",
       "        <AxesSubplot:title={'center':'mosold'}>],\n",
       "       [<AxesSubplot:title={'center':'yrsold'}>,\n",
       "        <AxesSubplot:title={'center':'saleprice'}>, <AxesSubplot:>,\n",
       "        <AxesSubplot:>, <AxesSubplot:>, <AxesSubplot:>]], dtype=object)"
      ]
     },
     "execution_count": 32,
     "metadata": {},
     "output_type": "execute_result"
    },
    {
     "data": {
      "image/png": "[encoded data removed]",
      "text/plain": [
       "<Figure size 1152x1440 with 42 Axes>"
      ]
     },
     "metadata": {
      "needs_background": "light"
     },
     "output_type": "display_data"
    }
   ],
   "source": [
    "# plot histogram chart\n",
    "ames[numericfeatures].hist(figsize=(16, 20), bins=50, xlabelsize=8, ylabelsize=8)\n",
    "    "
   ]
  },
  {
   "cell_type": "markdown",
   "metadata": {},
   "source": [
    "Some of the numeric features seem to be categories. \n",
    "There are features that indicate time "
   ]
  },
  {
   "cell_type": "code",
   "execution_count": 33,
   "metadata": {},
   "outputs": [
    {
     "name": "stdout",
     "output_type": "stream",
     "text": [
      "RL         2273\n",
      "RM          462\n",
      "FV          139\n",
      "RH           27\n",
      "C (all)      25\n",
      "I (all)       2\n",
      "A (agr)       2\n",
      "Name: mszoning, dtype: int64\n",
      "##################################################\n",
      "Pave    2918\n",
      "Grvl      12\n",
      "Name: street, dtype: int64\n",
      "##################################################\n",
      "none    2732\n",
      "Grvl     120\n",
      "Pave      78\n",
      "Name: alley, dtype: int64\n",
      "##################################################\n",
      "Reg    1859\n",
      "IR1     979\n",
      "IR2      76\n",
      "IR3      16\n",
      "Name: lotshape, dtype: int64\n",
      "##################################################\n",
      "Lvl    2633\n",
      "HLS     120\n",
      "Bnk     117\n",
      "Low      60\n",
      "Name: landcontour, dtype: int64\n",
      "##################################################\n",
      "AllPub    2927\n",
      "NoSewr       2\n",
      "NoSeWa       1\n",
      "Name: utilities, dtype: int64\n",
      "##################################################\n",
      "Inside     2140\n",
      "Corner      511\n",
      "CulDSac     180\n",
      "FR2          85\n",
      "FR3          14\n",
      "Name: lotconfig, dtype: int64\n",
      "##################################################\n",
      "Gtl    2789\n",
      "Mod     125\n",
      "Sev      16\n",
      "Name: landslope, dtype: int64\n",
      "##################################################\n",
      "NAmes      443\n",
      "CollgCr    267\n",
      "OldTown    239\n",
      "Edwards    194\n",
      "Somerst    182\n",
      "NridgHt    166\n",
      "Gilbert    165\n",
      "Sawyer     151\n",
      "NWAmes     131\n",
      "SawyerW    125\n",
      "Mitchel    114\n",
      "BrkSide    108\n",
      "Crawfor    103\n",
      "IDOTRR      93\n",
      "Timber      72\n",
      "NoRidge     71\n",
      "StoneBr     51\n",
      "SWISU       48\n",
      "ClearCr     44\n",
      "MeadowV     37\n",
      "BrDale      30\n",
      "Blmngtn     28\n",
      "Veenker     24\n",
      "NPkVill     23\n",
      "Blueste     10\n",
      "Greens       8\n",
      "GrnHill      2\n",
      "Landmrk      1\n",
      "Name: neighborhood, dtype: int64\n",
      "##################################################\n",
      "Norm      2522\n",
      "Feedr      164\n",
      "Artery      92\n",
      "RRAn        50\n",
      "PosN        39\n",
      "RRAe        28\n",
      "PosA        20\n",
      "RRNn         9\n",
      "RRNe         6\n",
      "Name: condition1, dtype: int64\n",
      "##################################################\n",
      "Norm      2900\n",
      "Feedr       13\n",
      "Artery       5\n",
      "PosA         4\n",
      "PosN         4\n",
      "RRNn         2\n",
      "RRAn         1\n",
      "RRAe         1\n",
      "Name: condition2, dtype: int64\n",
      "##################################################\n",
      "1Fam      2425\n",
      "TwnhsE     233\n",
      "Duplex     109\n",
      "Twnhs      101\n",
      "2fmCon      62\n",
      "Name: bldgtype, dtype: int64\n",
      "##################################################\n",
      "1Story    1481\n",
      "2Story     873\n",
      "1.5Fin     314\n",
      "SLvl       128\n",
      "SFoyer      83\n",
      "2.5Unf      24\n",
      "1.5Unf      19\n",
      "2.5Fin       8\n",
      "Name: housestyle, dtype: int64\n",
      "##################################################\n",
      "Gable      2321\n",
      "Hip         551\n",
      "Gambrel      22\n",
      "Flat         20\n",
      "Mansard      11\n",
      "Shed          5\n",
      "Name: roofstyle, dtype: int64\n",
      "##################################################\n",
      "CompShg    2887\n",
      "Tar&Grv      23\n",
      "WdShake       9\n",
      "WdShngl       7\n",
      "Membran       1\n",
      "Roll          1\n",
      "ClyTile       1\n",
      "Metal         1\n",
      "Name: roofmatl, dtype: int64\n",
      "##################################################\n",
      "VinylSd    1026\n",
      "MetalSd     450\n",
      "HdBoard     442\n",
      "Wd Sdng     420\n",
      "Plywood     221\n",
      "CemntBd     126\n",
      "BrkFace      88\n",
      "WdShing      56\n",
      "AsbShng      44\n",
      "Stucco       43\n",
      "BrkComm       6\n",
      "AsphShn       2\n",
      "CBlock        2\n",
      "Stone         2\n",
      "ImStucc       1\n",
      "PreCast       1\n",
      "Name: exterior1st, dtype: int64\n",
      "##################################################\n",
      "VinylSd    1015\n",
      "MetalSd     447\n",
      "HdBoard     406\n",
      "Wd Sdng     397\n",
      "Plywood     274\n",
      "CmentBd     126\n",
      "Wd Shng      81\n",
      "Stucco       47\n",
      "BrkFace      47\n",
      "AsbShng      38\n",
      "Brk Cmn      22\n",
      "ImStucc      15\n",
      "Stone         6\n",
      "AsphShn       4\n",
      "CBlock        3\n",
      "Other         1\n",
      "PreCast       1\n",
      "Name: exterior2nd, dtype: int64\n",
      "##################################################\n",
      "None       1752\n",
      "BrkFace     880\n",
      "Stone       249\n",
      "BrkCmn       25\n",
      "none         23\n",
      "CBlock        1\n",
      "Name: masvnrtype, dtype: int64\n",
      "##################################################\n",
      "TA    1799\n",
      "Gd     989\n",
      "Ex     107\n",
      "Fa      35\n",
      "Name: exterqual, dtype: int64\n",
      "##################################################\n",
      "TA    2549\n",
      "Gd     299\n",
      "Fa      67\n",
      "Ex      12\n",
      "Po       3\n",
      "Name: extercond, dtype: int64\n",
      "##################################################\n",
      "PConc     1310\n",
      "CBlock    1244\n",
      "BrkTil     311\n",
      "Slab        49\n",
      "Stone       11\n",
      "Wood         5\n",
      "Name: foundation, dtype: int64\n",
      "##################################################\n",
      "TA      1283\n",
      "Gd      1219\n",
      "Ex       258\n",
      "Fa        88\n",
      "none      80\n",
      "Po         2\n",
      "Name: bsmtqual, dtype: int64\n",
      "##################################################\n",
      "TA      2616\n",
      "Gd       122\n",
      "Fa       104\n",
      "none      80\n",
      "Po         5\n",
      "Ex         3\n",
      "Name: bsmtcond, dtype: int64\n",
      "##################################################\n",
      "No      1906\n",
      "Av       418\n",
      "Gd       284\n",
      "Mn       239\n",
      "none      83\n",
      "Name: bsmtexposure, dtype: int64\n",
      "##################################################\n",
      "GLQ     859\n",
      "Unf     851\n",
      "ALQ     429\n",
      "Rec     288\n",
      "BLQ     269\n",
      "LwQ     154\n",
      "none     80\n",
      "Name: bsmtfintype1, dtype: int64\n",
      "##################################################\n",
      "Unf     2499\n",
      "Rec      106\n",
      "LwQ       89\n",
      "none      81\n",
      "BLQ       68\n",
      "ALQ       53\n",
      "GLQ       34\n",
      "Name: bsmtfintype2, dtype: int64\n",
      "##################################################\n",
      "GasA     2885\n",
      "GasW       27\n",
      "Grav        9\n",
      "Wall        6\n",
      "OthW        2\n",
      "Floor       1\n",
      "Name: heating, dtype: int64\n",
      "##################################################\n",
      "Ex    1495\n",
      "TA     864\n",
      "Gd     476\n",
      "Fa      92\n",
      "Po       3\n",
      "Name: heatingqc, dtype: int64\n",
      "##################################################\n",
      "Y    2734\n",
      "N     196\n",
      "Name: centralair, dtype: int64\n",
      "##################################################\n",
      "SBrkr    2682\n",
      "FuseA     188\n",
      "FuseF      50\n",
      "FuseP       8\n",
      "Mix         1\n",
      "none        1\n",
      "Name: electrical, dtype: int64\n",
      "##################################################\n",
      "TA    1494\n",
      "Gd    1160\n",
      "Ex     205\n",
      "Fa      70\n",
      "Po       1\n",
      "Name: kitchenqual, dtype: int64\n",
      "##################################################\n",
      "Typ     2728\n",
      "Min2      70\n",
      "Min1      65\n",
      "Mod       35\n",
      "Maj1      19\n",
      "Maj2       9\n",
      "Sev        2\n",
      "Sal        2\n",
      "Name: functional, dtype: int64\n",
      "##################################################\n",
      "none    1422\n",
      "Gd       744\n",
      "TA       600\n",
      "Fa        75\n",
      "Po        46\n",
      "Ex        43\n",
      "Name: fireplacequ, dtype: int64\n",
      "##################################################\n",
      "Attchd     1731\n",
      "Detchd      782\n",
      "BuiltIn     186\n",
      "none        157\n",
      "Basment      36\n",
      "2Types       23\n",
      "CarPort      15\n",
      "Name: garagetype, dtype: int64\n",
      "##################################################\n",
      "Unf     1231\n",
      "RFn      812\n",
      "Fin      728\n",
      "none     159\n",
      "Name: garagefinish, dtype: int64\n",
      "##################################################\n",
      "TA      2615\n",
      "none     159\n",
      "Fa       124\n",
      "Gd        24\n",
      "Po         5\n",
      "Ex         3\n",
      "Name: garagequal, dtype: int64\n",
      "##################################################\n",
      "TA      2665\n",
      "none     159\n",
      "Fa        74\n",
      "Gd        15\n",
      "Po        14\n",
      "Ex         3\n",
      "Name: garagecond, dtype: int64\n",
      "##################################################\n",
      "Y    2652\n",
      "N     216\n",
      "P      62\n",
      "Name: paveddrive, dtype: int64\n",
      "##################################################\n",
      "none    2917\n",
      "Ex         4\n",
      "Gd         4\n",
      "TA         3\n",
      "Fa         2\n",
      "Name: poolqc, dtype: int64\n",
      "##################################################\n",
      "none     2358\n",
      "MnPrv     330\n",
      "GdPrv     118\n",
      "GdWo      112\n",
      "MnWw       12\n",
      "Name: fence, dtype: int64\n",
      "##################################################\n",
      "none    2824\n",
      "Shed      95\n",
      "Gar2       5\n",
      "Othr       4\n",
      "Elev       1\n",
      "TenC       1\n",
      "Name: miscfeature, dtype: int64\n",
      "##################################################\n",
      "WD       2536\n",
      "New       239\n",
      "COD        87\n",
      "ConLD      26\n",
      "CWD        12\n",
      "ConLI       9\n",
      "ConLw       8\n",
      "Oth         7\n",
      "Con         5\n",
      "VWD         1\n",
      "Name: saletype, dtype: int64\n",
      "##################################################\n",
      "Normal     2413\n",
      "Partial     245\n",
      "Abnorml     190\n",
      "Family       46\n",
      "Alloca       24\n",
      "AdjLand      12\n",
      "Name: salecondition, dtype: int64\n",
      "##################################################\n"
     ]
    }
   ],
   "source": [
    "for col in list(categoricalfeatures) :\n",
    "    print(ames[col].value_counts())\n",
    "    print('#'*50)"
   ]
  },
  {
   "cell_type": "code",
   "execution_count": 34,
   "metadata": {},
   "outputs": [
    {
     "name": "stdout",
     "output_type": "stream",
     "text": [
      "6 columns dropped from the original dataset\n"
     ]
    }
   ],
   "source": [
    "# Drop categorical features that are highly skewed \n",
    "before = ames.shape[1]\n",
    "drop_cols =  ['heating', 'roofmatl','condition2', 'street', 'utilities', 'alley']\n",
    "ames.drop(drop_cols, axis = 1, inplace = True)\n",
    "columns_dropped = before - ames.shape[1]\n",
    "print(str(columns_dropped) + ' ' + 'columns dropped from the original dataset')"
   ]
  },
  {
   "cell_type": "markdown",
   "metadata": {},
   "source": [
    "## Feature Engineering \n",
    "1. Create categorical features\n",
    "2. Take math transformation"
   ]
  },
  {
   "cell_type": "code",
   "execution_count": 35,
   "metadata": {},
   "outputs": [],
   "source": [
    "ames['log_saleprice'] = np.log(ames['saleprice'])"
   ]
  },
  {
   "cell_type": "code",
   "execution_count": 36,
   "metadata": {},
   "outputs": [],
   "source": [
    "ames['age']= ames['yrsold']-ames['yearbuilt']"
   ]
  },
  {
   "cell_type": "code",
   "execution_count": 37,
   "metadata": {},
   "outputs": [],
   "source": [
    "ames['totalbath'] = ames['fullbath'] + ames['halfbath']*0.5 + ames['bsmtfullbath'] + ames['bsmthalfbath']*0.5\n",
    "ames['totalsqft']= ames['totalbsmtsf'] + ames['1stflrsf'] + ames['2ndflrsf']"
   ]
  },
  {
   "cell_type": "code",
   "execution_count": 38,
   "metadata": {},
   "outputs": [],
   "source": [
    "neighmap  = {'NoRidge':3,'NridgHt':3, 'Somerst':3,\n",
    "             'NAmes':1,'Sawyer':1,'OldTown':1,'Edwards':1,'BrkSide':1, \n",
    "             'CollgCr':2, 'NWAmes': 2, 'SawyerW':2, 'Mitchel':2, 'Crawfor': 2, 'IDOTRR': 2, 'Timber': 2,\n",
    "             'StoneBr': 2, 'SWISU': 2, 'ClearCr': 2, 'MeadowV': 2, 'BrDale': 2, 'Blmngtn': 2, 'Veenker':2,\n",
    "             'NPkVill': 2, 'Blueste': 2, 'Greens': 2, 'GrnHill': 2, 'Landmrk': 2, 'Crawfor': 2, 'Gilbert':2}\n",
    "ames['neighborbuckets'] = ames['neighborhood'].map(neighmap)"
   ]
  },
  {
   "cell_type": "code",
   "execution_count": 39,
   "metadata": {},
   "outputs": [
    {
     "data": {
      "text/html": [
       "<div>\n",
       "<style scoped>\n",
       "    .dataframe tbody tr th:only-of-type {\n",
       "        vertical-align: middle;\n",
       "    }\n",
       "\n",
       "    .dataframe tbody tr th {\n",
       "        vertical-align: top;\n",
       "    }\n",
       "\n",
       "    .dataframe thead th {\n",
       "        text-align: right;\n",
       "    }\n",
       "</style>\n",
       "<table border=\"1\" class=\"dataframe\">\n",
       "  <thead>\n",
       "    <tr style=\"text-align: right;\">\n",
       "      <th></th>\n",
       "      <th>pid</th>\n",
       "      <th>mssubclass</th>\n",
       "      <th>mszoning</th>\n",
       "      <th>lotfrontage</th>\n",
       "      <th>lotarea</th>\n",
       "      <th>lotshape</th>\n",
       "      <th>landcontour</th>\n",
       "      <th>lotconfig</th>\n",
       "      <th>landslope</th>\n",
       "      <th>neighborhood</th>\n",
       "      <th>...</th>\n",
       "      <th>yrsold</th>\n",
       "      <th>saletype</th>\n",
       "      <th>salecondition</th>\n",
       "      <th>saleprice</th>\n",
       "      <th>yrmosold</th>\n",
       "      <th>log_saleprice</th>\n",
       "      <th>age</th>\n",
       "      <th>totalbath</th>\n",
       "      <th>totalsqft</th>\n",
       "      <th>neighborbuckets</th>\n",
       "    </tr>\n",
       "    <tr>\n",
       "      <th>Order</th>\n",
       "      <th></th>\n",
       "      <th></th>\n",
       "      <th></th>\n",
       "      <th></th>\n",
       "      <th></th>\n",
       "      <th></th>\n",
       "      <th></th>\n",
       "      <th></th>\n",
       "      <th></th>\n",
       "      <th></th>\n",
       "      <th></th>\n",
       "      <th></th>\n",
       "      <th></th>\n",
       "      <th></th>\n",
       "      <th></th>\n",
       "      <th></th>\n",
       "      <th></th>\n",
       "      <th></th>\n",
       "      <th></th>\n",
       "      <th></th>\n",
       "      <th></th>\n",
       "    </tr>\n",
       "  </thead>\n",
       "  <tbody>\n",
       "    <tr>\n",
       "      <th>1</th>\n",
       "      <td>526301100</td>\n",
       "      <td>20</td>\n",
       "      <td>RL</td>\n",
       "      <td>141.0</td>\n",
       "      <td>31770</td>\n",
       "      <td>IR1</td>\n",
       "      <td>Lvl</td>\n",
       "      <td>Corner</td>\n",
       "      <td>Gtl</td>\n",
       "      <td>NAmes</td>\n",
       "      <td>...</td>\n",
       "      <td>2010</td>\n",
       "      <td>WD</td>\n",
       "      <td>Normal</td>\n",
       "      <td>215000</td>\n",
       "      <td>2010-05-10</td>\n",
       "      <td>12.278393</td>\n",
       "      <td>50</td>\n",
       "      <td>2.0</td>\n",
       "      <td>2736.0</td>\n",
       "      <td>1</td>\n",
       "    </tr>\n",
       "    <tr>\n",
       "      <th>2</th>\n",
       "      <td>526350040</td>\n",
       "      <td>20</td>\n",
       "      <td>RH</td>\n",
       "      <td>80.0</td>\n",
       "      <td>11622</td>\n",
       "      <td>Reg</td>\n",
       "      <td>Lvl</td>\n",
       "      <td>Inside</td>\n",
       "      <td>Gtl</td>\n",
       "      <td>NAmes</td>\n",
       "      <td>...</td>\n",
       "      <td>2010</td>\n",
       "      <td>WD</td>\n",
       "      <td>Normal</td>\n",
       "      <td>105000</td>\n",
       "      <td>2010-06-10</td>\n",
       "      <td>11.561716</td>\n",
       "      <td>49</td>\n",
       "      <td>1.0</td>\n",
       "      <td>1778.0</td>\n",
       "      <td>1</td>\n",
       "    </tr>\n",
       "    <tr>\n",
       "      <th>3</th>\n",
       "      <td>526351010</td>\n",
       "      <td>20</td>\n",
       "      <td>RL</td>\n",
       "      <td>81.0</td>\n",
       "      <td>14267</td>\n",
       "      <td>IR1</td>\n",
       "      <td>Lvl</td>\n",
       "      <td>Corner</td>\n",
       "      <td>Gtl</td>\n",
       "      <td>NAmes</td>\n",
       "      <td>...</td>\n",
       "      <td>2010</td>\n",
       "      <td>WD</td>\n",
       "      <td>Normal</td>\n",
       "      <td>172000</td>\n",
       "      <td>2010-06-10</td>\n",
       "      <td>12.055250</td>\n",
       "      <td>52</td>\n",
       "      <td>1.5</td>\n",
       "      <td>2658.0</td>\n",
       "      <td>1</td>\n",
       "    </tr>\n",
       "  </tbody>\n",
       "</table>\n",
       "<p>3 rows × 81 columns</p>\n",
       "</div>"
      ],
      "text/plain": [
       "             pid  mssubclass mszoning  lotfrontage  lotarea lotshape  \\\n",
       "Order                                                                  \n",
       "1      526301100          20       RL        141.0    31770      IR1   \n",
       "2      526350040          20       RH         80.0    11622      Reg   \n",
       "3      526351010          20       RL         81.0    14267      IR1   \n",
       "\n",
       "      landcontour lotconfig landslope neighborhood  ... yrsold saletype  \\\n",
       "Order                                               ...                   \n",
       "1             Lvl    Corner       Gtl        NAmes  ...   2010      WD    \n",
       "2             Lvl    Inside       Gtl        NAmes  ...   2010      WD    \n",
       "3             Lvl    Corner       Gtl        NAmes  ...   2010      WD    \n",
       "\n",
       "      salecondition  saleprice    yrmosold  log_saleprice  age totalbath  \\\n",
       "Order                                                                      \n",
       "1            Normal     215000  2010-05-10      12.278393   50       2.0   \n",
       "2            Normal     105000  2010-06-10      11.561716   49       1.0   \n",
       "3            Normal     172000  2010-06-10      12.055250   52       1.5   \n",
       "\n",
       "      totalsqft neighborbuckets  \n",
       "Order                            \n",
       "1        2736.0               1  \n",
       "2        1778.0               1  \n",
       "3        2658.0               1  \n",
       "\n",
       "[3 rows x 81 columns]"
      ]
     },
     "execution_count": 39,
     "metadata": {},
     "output_type": "execute_result"
    }
   ],
   "source": [
    "ames.head(3)"
   ]
  },
  {
   "cell_type": "code",
   "execution_count": 40,
   "metadata": {},
   "outputs": [],
   "source": [
    "# created boolean features\n",
    "ames['hasbasement'] = ames.totalbsmtsf.apply(lambda x: 1 if x > 0 else 0)\n",
    "ames['hasgarage'] = ames.garagearea.apply(lambda x: 1 if x > 0 else 0)\n",
    "ames['haspool'] = ames.poolarea.apply(lambda x: 1 if x > 0 else 0)\n",
    "ames['wasremodeled'] = (ames['yearremod/add'] != ames.yearbuilt).astype(np.int64)"
   ]
  },
  {
   "cell_type": "code",
   "execution_count": 41,
   "metadata": {},
   "outputs": [
    {
     "name": "stdout",
     "output_type": "stream",
     "text": [
      "Number of Numerical features:  47\n",
      "Number of Categorical features:  38\n"
     ]
    }
   ],
   "source": [
    "# Marking the features or columns as numeric or categorical for easy referencce later in the code\n",
    "numericfeatures = [f for f in ames.columns if ames.dtypes[f] != 'object']\n",
    "print(\"Number of Numerical features: \", len(numericfeatures))\n",
    "\n",
    "categoricalfeatures = [f for f in ames.columns if ames.dtypes[f] == 'object']\n",
    "print(\"Number of Categorical features: \", len(categoricalfeatures))"
   ]
  },
  {
   "cell_type": "markdown",
   "metadata": {},
   "source": [
    "## Visualization"
   ]
  },
  {
   "cell_type": "markdown",
   "metadata": {},
   "source": [
    "### Univariate"
   ]
  },
  {
   "cell_type": "code",
   "execution_count": 42,
   "metadata": {},
   "outputs": [
    {
     "data": {
      "text/plain": [
       "array([[<AxesSubplot:title={'center':'pid'}>,\n",
       "        <AxesSubplot:title={'center':'mssubclass'}>,\n",
       "        <AxesSubplot:title={'center':'lotfrontage'}>,\n",
       "        <AxesSubplot:title={'center':'lotarea'}>,\n",
       "        <AxesSubplot:title={'center':'overallqual'}>,\n",
       "        <AxesSubplot:title={'center':'overallcond'}>,\n",
       "        <AxesSubplot:title={'center':'yearbuilt'}>],\n",
       "       [<AxesSubplot:title={'center':'yearremod/add'}>,\n",
       "        <AxesSubplot:title={'center':'masvnrarea'}>,\n",
       "        <AxesSubplot:title={'center':'bsmtfinsf1'}>,\n",
       "        <AxesSubplot:title={'center':'bsmtfinsf2'}>,\n",
       "        <AxesSubplot:title={'center':'bsmtunfsf'}>,\n",
       "        <AxesSubplot:title={'center':'totalbsmtsf'}>,\n",
       "        <AxesSubplot:title={'center':'1stflrsf'}>],\n",
       "       [<AxesSubplot:title={'center':'2ndflrsf'}>,\n",
       "        <AxesSubplot:title={'center':'lowqualfinsf'}>,\n",
       "        <AxesSubplot:title={'center':'grlivarea'}>,\n",
       "        <AxesSubplot:title={'center':'bsmtfullbath'}>,\n",
       "        <AxesSubplot:title={'center':'bsmthalfbath'}>,\n",
       "        <AxesSubplot:title={'center':'fullbath'}>,\n",
       "        <AxesSubplot:title={'center':'halfbath'}>],\n",
       "       [<AxesSubplot:title={'center':'bedroomabvgr'}>,\n",
       "        <AxesSubplot:title={'center':'kitchenabvgr'}>,\n",
       "        <AxesSubplot:title={'center':'totrmsabvgrd'}>,\n",
       "        <AxesSubplot:title={'center':'fireplaces'}>,\n",
       "        <AxesSubplot:title={'center':'garageyrblt'}>,\n",
       "        <AxesSubplot:title={'center':'garagecars'}>,\n",
       "        <AxesSubplot:title={'center':'garagearea'}>],\n",
       "       [<AxesSubplot:title={'center':'wooddecksf'}>,\n",
       "        <AxesSubplot:title={'center':'openporchsf'}>,\n",
       "        <AxesSubplot:title={'center':'enclosedporch'}>,\n",
       "        <AxesSubplot:title={'center':'3ssnporch'}>,\n",
       "        <AxesSubplot:title={'center':'screenporch'}>,\n",
       "        <AxesSubplot:title={'center':'poolarea'}>,\n",
       "        <AxesSubplot:title={'center':'miscval'}>],\n",
       "       [<AxesSubplot:title={'center':'mosold'}>,\n",
       "        <AxesSubplot:title={'center':'yrsold'}>,\n",
       "        <AxesSubplot:title={'center':'saleprice'}>,\n",
       "        <AxesSubplot:title={'center':'log_saleprice'}>,\n",
       "        <AxesSubplot:title={'center':'age'}>,\n",
       "        <AxesSubplot:title={'center':'totalbath'}>,\n",
       "        <AxesSubplot:title={'center':'totalsqft'}>],\n",
       "       [<AxesSubplot:title={'center':'neighborbuckets'}>,\n",
       "        <AxesSubplot:title={'center':'hasbasement'}>,\n",
       "        <AxesSubplot:title={'center':'hasgarage'}>,\n",
       "        <AxesSubplot:title={'center':'haspool'}>,\n",
       "        <AxesSubplot:title={'center':'wasremodeled'}>, <AxesSubplot:>,\n",
       "        <AxesSubplot:>]], dtype=object)"
      ]
     },
     "execution_count": 42,
     "metadata": {},
     "output_type": "execute_result"
    },
    {
     "data": {
      "image/png": "[encoded data removed]",
      "text/plain": [
       "<Figure size 1152x1440 with 49 Axes>"
      ]
     },
     "metadata": {
      "needs_background": "light"
     },
     "output_type": "display_data"
    }
   ],
   "source": [
    "ames[numericfeatures].hist(figsize=(16, 20), bins=50, xlabelsize=8, ylabelsize=8)"
   ]
  },
  {
   "cell_type": "code",
   "execution_count": 43,
   "metadata": {},
   "outputs": [
    {
     "name": "stdout",
     "output_type": "stream",
     "text": [
      "RL         2273\n",
      "RM          462\n",
      "FV          139\n",
      "RH           27\n",
      "C (all)      25\n",
      "I (all)       2\n",
      "A (agr)       2\n",
      "Name: mszoning, dtype: int64\n",
      "##################################################\n",
      "Reg    1859\n",
      "IR1     979\n",
      "IR2      76\n",
      "IR3      16\n",
      "Name: lotshape, dtype: int64\n",
      "##################################################\n",
      "Lvl    2633\n",
      "HLS     120\n",
      "Bnk     117\n",
      "Low      60\n",
      "Name: landcontour, dtype: int64\n",
      "##################################################\n",
      "Inside     2140\n",
      "Corner      511\n",
      "CulDSac     180\n",
      "FR2          85\n",
      "FR3          14\n",
      "Name: lotconfig, dtype: int64\n",
      "##################################################\n",
      "Gtl    2789\n",
      "Mod     125\n",
      "Sev      16\n",
      "Name: landslope, dtype: int64\n",
      "##################################################\n",
      "NAmes      443\n",
      "CollgCr    267\n",
      "OldTown    239\n",
      "Edwards    194\n",
      "Somerst    182\n",
      "NridgHt    166\n",
      "Gilbert    165\n",
      "Sawyer     151\n",
      "NWAmes     131\n",
      "SawyerW    125\n",
      "Mitchel    114\n",
      "BrkSide    108\n",
      "Crawfor    103\n",
      "IDOTRR      93\n",
      "Timber      72\n",
      "NoRidge     71\n",
      "StoneBr     51\n",
      "SWISU       48\n",
      "ClearCr     44\n",
      "MeadowV     37\n",
      "BrDale      30\n",
      "Blmngtn     28\n",
      "Veenker     24\n",
      "NPkVill     23\n",
      "Blueste     10\n",
      "Greens       8\n",
      "GrnHill      2\n",
      "Landmrk      1\n",
      "Name: neighborhood, dtype: int64\n",
      "##################################################\n",
      "Norm      2522\n",
      "Feedr      164\n",
      "Artery      92\n",
      "RRAn        50\n",
      "PosN        39\n",
      "RRAe        28\n",
      "PosA        20\n",
      "RRNn         9\n",
      "RRNe         6\n",
      "Name: condition1, dtype: int64\n",
      "##################################################\n",
      "1Fam      2425\n",
      "TwnhsE     233\n",
      "Duplex     109\n",
      "Twnhs      101\n",
      "2fmCon      62\n",
      "Name: bldgtype, dtype: int64\n",
      "##################################################\n",
      "1Story    1481\n",
      "2Story     873\n",
      "1.5Fin     314\n",
      "SLvl       128\n",
      "SFoyer      83\n",
      "2.5Unf      24\n",
      "1.5Unf      19\n",
      "2.5Fin       8\n",
      "Name: housestyle, dtype: int64\n",
      "##################################################\n",
      "Gable      2321\n",
      "Hip         551\n",
      "Gambrel      22\n",
      "Flat         20\n",
      "Mansard      11\n",
      "Shed          5\n",
      "Name: roofstyle, dtype: int64\n",
      "##################################################\n",
      "VinylSd    1026\n",
      "MetalSd     450\n",
      "HdBoard     442\n",
      "Wd Sdng     420\n",
      "Plywood     221\n",
      "CemntBd     126\n",
      "BrkFace      88\n",
      "WdShing      56\n",
      "AsbShng      44\n",
      "Stucco       43\n",
      "BrkComm       6\n",
      "AsphShn       2\n",
      "CBlock        2\n",
      "Stone         2\n",
      "ImStucc       1\n",
      "PreCast       1\n",
      "Name: exterior1st, dtype: int64\n",
      "##################################################\n",
      "VinylSd    1015\n",
      "MetalSd     447\n",
      "HdBoard     406\n",
      "Wd Sdng     397\n",
      "Plywood     274\n",
      "CmentBd     126\n",
      "Wd Shng      81\n",
      "Stucco       47\n",
      "BrkFace      47\n",
      "AsbShng      38\n",
      "Brk Cmn      22\n",
      "ImStucc      15\n",
      "Stone         6\n",
      "AsphShn       4\n",
      "CBlock        3\n",
      "Other         1\n",
      "PreCast       1\n",
      "Name: exterior2nd, dtype: int64\n",
      "##################################################\n",
      "None       1752\n",
      "BrkFace     880\n",
      "Stone       249\n",
      "BrkCmn       25\n",
      "none         23\n",
      "CBlock        1\n",
      "Name: masvnrtype, dtype: int64\n",
      "##################################################\n",
      "TA    1799\n",
      "Gd     989\n",
      "Ex     107\n",
      "Fa      35\n",
      "Name: exterqual, dtype: int64\n",
      "##################################################\n",
      "TA    2549\n",
      "Gd     299\n",
      "Fa      67\n",
      "Ex      12\n",
      "Po       3\n",
      "Name: extercond, dtype: int64\n",
      "##################################################\n",
      "PConc     1310\n",
      "CBlock    1244\n",
      "BrkTil     311\n",
      "Slab        49\n",
      "Stone       11\n",
      "Wood         5\n",
      "Name: foundation, dtype: int64\n",
      "##################################################\n",
      "TA      1283\n",
      "Gd      1219\n",
      "Ex       258\n",
      "Fa        88\n",
      "none      80\n",
      "Po         2\n",
      "Name: bsmtqual, dtype: int64\n",
      "##################################################\n",
      "TA      2616\n",
      "Gd       122\n",
      "Fa       104\n",
      "none      80\n",
      "Po         5\n",
      "Ex         3\n",
      "Name: bsmtcond, dtype: int64\n",
      "##################################################\n",
      "No      1906\n",
      "Av       418\n",
      "Gd       284\n",
      "Mn       239\n",
      "none      83\n",
      "Name: bsmtexposure, dtype: int64\n",
      "##################################################\n",
      "GLQ     859\n",
      "Unf     851\n",
      "ALQ     429\n",
      "Rec     288\n",
      "BLQ     269\n",
      "LwQ     154\n",
      "none     80\n",
      "Name: bsmtfintype1, dtype: int64\n",
      "##################################################\n",
      "Unf     2499\n",
      "Rec      106\n",
      "LwQ       89\n",
      "none      81\n",
      "BLQ       68\n",
      "ALQ       53\n",
      "GLQ       34\n",
      "Name: bsmtfintype2, dtype: int64\n",
      "##################################################\n",
      "Ex    1495\n",
      "TA     864\n",
      "Gd     476\n",
      "Fa      92\n",
      "Po       3\n",
      "Name: heatingqc, dtype: int64\n",
      "##################################################\n",
      "Y    2734\n",
      "N     196\n",
      "Name: centralair, dtype: int64\n",
      "##################################################\n",
      "SBrkr    2682\n",
      "FuseA     188\n",
      "FuseF      50\n",
      "FuseP       8\n",
      "Mix         1\n",
      "none        1\n",
      "Name: electrical, dtype: int64\n",
      "##################################################\n",
      "TA    1494\n",
      "Gd    1160\n",
      "Ex     205\n",
      "Fa      70\n",
      "Po       1\n",
      "Name: kitchenqual, dtype: int64\n",
      "##################################################\n",
      "Typ     2728\n",
      "Min2      70\n",
      "Min1      65\n",
      "Mod       35\n",
      "Maj1      19\n",
      "Maj2       9\n",
      "Sev        2\n",
      "Sal        2\n",
      "Name: functional, dtype: int64\n",
      "##################################################\n",
      "none    1422\n",
      "Gd       744\n",
      "TA       600\n",
      "Fa        75\n",
      "Po        46\n",
      "Ex        43\n",
      "Name: fireplacequ, dtype: int64\n",
      "##################################################\n",
      "Attchd     1731\n",
      "Detchd      782\n",
      "BuiltIn     186\n",
      "none        157\n",
      "Basment      36\n",
      "2Types       23\n",
      "CarPort      15\n",
      "Name: garagetype, dtype: int64\n",
      "##################################################\n",
      "Unf     1231\n",
      "RFn      812\n",
      "Fin      728\n",
      "none     159\n",
      "Name: garagefinish, dtype: int64\n",
      "##################################################\n",
      "TA      2615\n",
      "none     159\n",
      "Fa       124\n",
      "Gd        24\n",
      "Po         5\n",
      "Ex         3\n",
      "Name: garagequal, dtype: int64\n",
      "##################################################\n",
      "TA      2665\n",
      "none     159\n",
      "Fa        74\n",
      "Gd        15\n",
      "Po        14\n",
      "Ex         3\n",
      "Name: garagecond, dtype: int64\n",
      "##################################################\n",
      "Y    2652\n",
      "N     216\n",
      "P      62\n",
      "Name: paveddrive, dtype: int64\n",
      "##################################################\n",
      "none    2917\n",
      "Ex         4\n",
      "Gd         4\n",
      "TA         3\n",
      "Fa         2\n",
      "Name: poolqc, dtype: int64\n",
      "##################################################\n",
      "none     2358\n",
      "MnPrv     330\n",
      "GdPrv     118\n",
      "GdWo      112\n",
      "MnWw       12\n",
      "Name: fence, dtype: int64\n",
      "##################################################\n",
      "none    2824\n",
      "Shed      95\n",
      "Gar2       5\n",
      "Othr       4\n",
      "Elev       1\n",
      "TenC       1\n",
      "Name: miscfeature, dtype: int64\n",
      "##################################################\n",
      "WD       2536\n",
      "New       239\n",
      "COD        87\n",
      "ConLD      26\n",
      "CWD        12\n",
      "ConLI       9\n",
      "ConLw       8\n",
      "Oth         7\n",
      "Con         5\n",
      "VWD         1\n",
      "Name: saletype, dtype: int64\n",
      "##################################################\n",
      "Normal     2413\n",
      "Partial     245\n",
      "Abnorml     190\n",
      "Family       46\n",
      "Alloca       24\n",
      "AdjLand      12\n",
      "Name: salecondition, dtype: int64\n",
      "##################################################\n",
      "2006-07-10    122\n",
      "2009-06-10    112\n",
      "2009-07-10    110\n",
      "2007-07-10    108\n",
      "2008-06-10    108\n",
      "2007-06-10    106\n",
      "2008-07-10    101\n",
      "2006-06-10     97\n",
      "2007-05-10     89\n",
      "2008-05-10     83\n",
      "2010-06-10     82\n",
      "2010-05-10     79\n",
      "2007-08-10     75\n",
      "2006-05-10     75\n",
      "2010-04-10     72\n",
      "2009-05-10     69\n",
      "2009-08-10     62\n",
      "2008-04-10     61\n",
      "2007-03-10     53\n",
      "2009-10-10     53\n",
      "2008-08-10     51\n",
      "2006-03-10     51\n",
      "2007-04-10     50\n",
      "2006-10-10     49\n",
      "2009-04-10     48\n",
      "2010-03-10     48\n",
      "2006-04-10     48\n",
      "2009-09-10     45\n",
      "2009-03-10     45\n",
      "2006-08-10     45\n",
      "2007-11-10     41\n",
      "2006-09-10     41\n",
      "2007-10-10     41\n",
      "2007-09-10     40\n",
      "2009-11-10     37\n",
      "2008-03-10     35\n",
      "2008-09-10     35\n",
      "2008-11-10     34\n",
      "2007-12-10     32\n",
      "2006-11-10     31\n",
      "2007-01-10     31\n",
      "2008-10-10     30\n",
      "2008-01-10     29\n",
      "2008-02-10     28\n",
      "2007-02-10     28\n",
      "2009-02-10     27\n",
      "2008-12-10     27\n",
      "2010-02-10     26\n",
      "2010-01-10     26\n",
      "2006-12-10     24\n",
      "2006-02-10     24\n",
      "2009-12-10     21\n",
      "2009-01-10     19\n",
      "2006-01-10     18\n",
      "2010-07-10      8\n",
      "Name: yrmosold, dtype: int64\n",
      "##################################################\n"
     ]
    }
   ],
   "source": [
    "for col in list(categoricalfeatures) :\n",
    "    print(ames[col].value_counts())\n",
    "    print('#'*50)"
   ]
  },
  {
   "cell_type": "markdown",
   "metadata": {},
   "source": [
    "### Bivariate"
   ]
  },
  {
   "cell_type": "code",
   "execution_count": 44,
   "metadata": {},
   "outputs": [
    {
     "data": {
      "text/plain": [
       "saleprice          1.000000\n",
       "log_saleprice      0.946303\n",
       "overallqual        0.799262\n",
       "totalsqft          0.793071\n",
       "grlivarea          0.706780\n",
       "garagecars         0.647812\n",
       "garagearea         0.640381\n",
       "totalbath          0.636175\n",
       "totalbsmtsf        0.632164\n",
       "1stflrsf           0.621676\n",
       "neighborbuckets    0.590116\n",
       "yearbuilt          0.558426\n",
       "fullbath           0.545604\n",
       "yearremod/add      0.532974\n",
       "garageyrblt        0.508882\n",
       "masvnrarea         0.502196\n",
       "totrmsabvgrd       0.495474\n",
       "fireplaces         0.474558\n",
       "bsmtfinsf1         0.432862\n",
       "lotfrontage        0.340256\n",
       "wooddecksf         0.327143\n",
       "openporchsf        0.312951\n",
       "halfbath           0.285056\n",
       "bsmtfullbath       0.275823\n",
       "2ndflrsf           0.269373\n",
       "lotarea            0.266549\n",
       "hasgarage          0.225950\n",
       "bsmtunfsf          0.182895\n",
       "hasbasement        0.152630\n",
       "bedroomabvgr       0.143913\n",
       "screenporch        0.112151\n",
       "haspool            0.087960\n",
       "poolarea           0.068403\n",
       "mosold             0.035259\n",
       "3ssnporch          0.032225\n",
       "bsmtfinsf2         0.006018\n",
       "miscval           -0.015691\n",
       "yrsold            -0.030569\n",
       "bsmthalfbath      -0.035817\n",
       "lowqualfinsf      -0.037660\n",
       "wasremodeled      -0.047274\n",
       "mssubclass        -0.085092\n",
       "overallcond       -0.101697\n",
       "kitchenabvgr      -0.119814\n",
       "enclosedporch     -0.128787\n",
       "pid               -0.246521\n",
       "age               -0.558907\n",
       "Name: saleprice, dtype: float64"
      ]
     },
     "execution_count": 44,
     "metadata": {},
     "output_type": "execute_result"
    }
   ],
   "source": [
    "ames_corr = ames.corr()\n",
    "ames_corr['saleprice'].sort_values(ascending=False)\n",
    "#ames['log_saleprice'] = np.log(ames['saleprice'])"
   ]
  },
  {
   "cell_type": "code",
   "execution_count": 45,
   "metadata": {},
   "outputs": [],
   "source": [
    "subsetd = ames[['saleprice','log_saleprice','grlivarea','totalsqft','totalbath','hasbasement',\n",
    "                    'overallqual', 'hasgarage','neighborbuckets','age']]\n",
    "#pd.plotting.scatter_matrix(subsetd, alpha=0.9, marker=\"o\", figsize=(15,15),diagonal = 'kde', grid=True)"
   ]
  },
  {
   "cell_type": "code",
   "execution_count": 46,
   "metadata": {},
   "outputs": [
    {
     "data": {
      "text/plain": [
       "<AxesSubplot:>"
      ]
     },
     "execution_count": 46,
     "metadata": {},
     "output_type": "execute_result"
    },
    {
     "data": {
      "image/png": "[encoded data removed]",
      "text/plain": [
       "<Figure size 1008x288 with 1 Axes>"
      ]
     },
     "metadata": {
      "needs_background": "light"
     },
     "output_type": "display_data"
    },
    {
     "data": {
      "text/plain": [
       "<AxesSubplot:>"
      ]
     },
     "execution_count": 46,
     "metadata": {},
     "output_type": "execute_result"
    },
    {
     "data": {
      "image/png": "[encoded data removed]",
      "text/plain": [
       "<Figure size 1008x288 with 1 Axes>"
      ]
     },
     "metadata": {
      "needs_background": "light"
     },
     "output_type": "display_data"
    }
   ],
   "source": [
    "subsetd['saleprice'].hist(bins=50, rwidth=.8, figsize=(14,4))\n",
    "plt.show()\n",
    "\n",
    "subsetd['log_saleprice'].hist(bins=50, rwidth=.8, figsize=(14,4))\n",
    "plt.show()"
   ]
  },
  {
   "cell_type": "code",
   "execution_count": 47,
   "metadata": {},
   "outputs": [],
   "source": [
    "subsetd = ames[['log_saleprice','grlivarea','totalsqft','totalbath','hasbasement',\n",
    "                    'overallqual', 'hasgarage','neighborbuckets','age']]\n",
    "#pd.plotting.scatter_matrix(subsetd, alpha=0.9, marker=\"o\", figsize=(15,15),diagonal = 'kde', grid=True)"
   ]
  },
  {
   "cell_type": "markdown",
   "metadata": {},
   "source": [
    "There seems to be positive correlations with log_sale price."
   ]
  },
  {
   "cell_type": "markdown",
   "metadata": {},
   "source": [
    "## Is there any difference between the neighborhood buckets?"
   ]
  },
  {
   "cell_type": "code",
   "execution_count": 48,
   "metadata": {},
   "outputs": [
    {
     "data": {
      "text/plain": [
       "<AxesSubplot:title={'center':'saleprice'}, xlabel='[neighborbuckets]'>"
      ]
     },
     "execution_count": 48,
     "metadata": {},
     "output_type": "execute_result"
    },
    {
     "data": {
      "image/png": "[encoded data removed]",
      "text/plain": [
       "<Figure size 1440x1080 with 1 Axes>"
      ]
     },
     "metadata": {
      "needs_background": "light"
     },
     "output_type": "display_data"
    }
   ],
   "source": [
    "ames[['saleprice','neighborbuckets']].boxplot(column=['saleprice'], by=['neighborbuckets']\n",
    "                                           ,rot=45, fontsize=15, figsize=(20,15))"
   ]
  },
  {
   "cell_type": "code",
   "execution_count": 49,
   "metadata": {},
   "outputs": [
    {
     "name": "stdout",
     "output_type": "stream",
     "text": [
      "stat=841.487, p=0.000\n",
      "At least one mean is different\n"
     ]
    }
   ],
   "source": [
    "from scipy.stats import f_oneway\n",
    "n1 = ames[ames.neighborbuckets == 1]\n",
    "n2 = ames[ames.neighborbuckets == 2]\n",
    "n3 = ames[ames.neighborbuckets == 3]\n",
    "stat, p = f_oneway(n1['saleprice'], n2['saleprice'], n3['saleprice'])\n",
    "print('stat=%.3f, p=%.3f' % (stat, p))\n",
    "if p > 0.05:\n",
    "    print('Mean of all the categories are the same')\n",
    "else:\n",
    "    print('At least one mean is different')"
   ]
  },
  {
   "cell_type": "markdown",
   "metadata": {},
   "source": [
    "## Verify Sale price distribution"
   ]
  },
  {
   "cell_type": "code",
   "execution_count": 53,
   "metadata": {},
   "outputs": [
    {
     "data": {
      "text/plain": [
       "((array([-3.49555212, -3.25141499, -3.11638513, ...,  3.11638513,\n",
       "          3.25141499,  3.49555212]),\n",
       "  array([ 12789,  13100,  34900, ..., 625000, 745000, 755000], dtype=int64)),\n",
       " (74825.863175553, 180796.0600682594, 0.9358026011048884))"
      ]
     },
     "execution_count": 53,
     "metadata": {},
     "output_type": "execute_result"
    },
    {
     "data": {
      "text/plain": [
       "Text(0, 0.5, 'Sale Price')"
      ]
     },
     "execution_count": 53,
     "metadata": {},
     "output_type": "execute_result"
    },
    {
     "data": {
      "image/png": "[encoded data removed]",
      "text/plain": [
       "<Figure size 432x288 with 1 Axes>"
      ]
     },
     "metadata": {
      "needs_background": "light"
     },
     "output_type": "display_data"
    },
    {
     "data": {
      "text/plain": [
       "((array([-3.49555212, -3.25141499, -3.11638513, ...,  3.11638513,\n",
       "          3.25141499,  3.49555212]),\n",
       "  array([ 9.45634071,  9.48036751, 10.46024211, ..., 13.34550693,\n",
       "         13.5211395 , 13.53447303])),\n",
       " (0.4049211767814775, 12.02096869011177, 0.9925610066837288))"
      ]
     },
     "execution_count": 53,
     "metadata": {},
     "output_type": "execute_result"
    },
    {
     "data": {
      "text/plain": [
       "Text(0, 0.5, 'Log Sale Price')"
      ]
     },
     "execution_count": 53,
     "metadata": {},
     "output_type": "execute_result"
    },
    {
     "data": {
      "image/png": "[encoded data removed]",
      "text/plain": [
       "<Figure size 432x288 with 1 Axes>"
      ]
     },
     "metadata": {
      "needs_background": "light"
     },
     "output_type": "display_data"
    }
   ],
   "source": [
    "stats.probplot(ames['saleprice'], plot=plt)\n",
    "plt.ylabel('Sale Price')\n",
    "plt.show()\n",
    "stats.probplot(np.log(ames['saleprice']), plot=plt)\n",
    "plt.ylabel('Log Sale Price')\n",
    "plt.show()"
   ]
  },
  {
   "cell_type": "markdown",
   "metadata": {},
   "source": [
    "Eyeballing the normal probability plot for Sale price seems like it has fatter tails as compared to the normal distribution. Taking log transformation of the sale price seems to pass a fat pencil test.\n",
    "Ho: Sale Price is normal (or Guassian) distributed\n",
    "H1: Sale price is not normal distributed"
   ]
  },
  {
   "cell_type": "markdown",
   "metadata": {},
   "source": [
    "## Hypothesis Testing"
   ]
  },
  {
   "cell_type": "code",
   "execution_count": 59,
   "metadata": {},
   "outputs": [],
   "source": [
    "subsetd = ames[['log_saleprice','log_grlivarea','totalsqft','totalbath','hasbasement',\n",
    "                    'overallqual', 'hasgarage','neighborbuckets','age']]\n"
   ]
  },
  {
   "cell_type": "code",
   "execution_count": 55,
   "metadata": {},
   "outputs": [
    {
     "name": "stdout",
     "output_type": "stream",
     "text": [
      "stat=0.876, p=0.000\n",
      "Probably not Gaussian\n"
     ]
    }
   ],
   "source": [
    "from scipy.stats import shapiro\n",
    "series_2test = ames[['saleprice']]\n",
    "stat, p = shapiro(series_2test)\n",
    "print('stat=%.3f, p=%.3f' % (stat, p))\n",
    "if p > 0.05:\n",
    "    print('Probably Gaussian')\n",
    "else:\n",
    "    print('Probably not Gaussian')"
   ]
  },
  {
   "cell_type": "code",
   "execution_count": 58,
   "metadata": {},
   "outputs": [],
   "source": [
    "ames['log_grlivarea'] = np.log(ames['grlivarea'])"
   ]
  },
  {
   "cell_type": "code",
   "execution_count": 65,
   "metadata": {},
   "outputs": [
    {
     "data": {
      "text/plain": [
       "<AxesSubplot:>"
      ]
     },
     "execution_count": 65,
     "metadata": {},
     "output_type": "execute_result"
    },
    {
     "data": {
      "image/png": "[encoded data removed]",
      "text/plain": [
       "<Figure size 1008x288 with 1 Axes>"
      ]
     },
     "metadata": {
      "needs_background": "light"
     },
     "output_type": "display_data"
    },
    {
     "data": {
      "text/plain": [
       "((array([-3.49555212, -3.25141499, -3.11638513, ...,  3.11638513,\n",
       "          3.25141499,  3.49555212]),\n",
       "  array([ 334,  407,  438, ..., 4676, 5095, 5642], dtype=int64)),\n",
       " (488.68230931450984, 1499.6904436860068, 0.9658390813078269))"
      ]
     },
     "execution_count": 65,
     "metadata": {},
     "output_type": "execute_result"
    },
    {
     "data": {
      "text/plain": [
       "Text(0, 0.5, 'grlivarea')"
      ]
     },
     "execution_count": 65,
     "metadata": {},
     "output_type": "execute_result"
    },
    {
     "data": {
      "image/png": "[encoded data removed]",
      "text/plain": [
       "<Figure size 432x288 with 1 Axes>"
      ]
     },
     "metadata": {
      "needs_background": "light"
     },
     "output_type": "display_data"
    },
    {
     "data": {
      "text/plain": [
       "((array([-3.49555212, -3.25141499, -3.11638513, ...,  3.11638513,\n",
       "          3.25141499,  3.49555212]),\n",
       "  array([5.81114099, 6.00881319, 6.08221891, ..., 8.45019832, 8.53601495,\n",
       "         8.63799389])),\n",
       " (0.3244437275224337, 7.260127644825557, 0.9983452245775338))"
      ]
     },
     "execution_count": 65,
     "metadata": {},
     "output_type": "execute_result"
    },
    {
     "data": {
      "text/plain": [
       "Text(0, 0.5, 'log Gr Liv Area')"
      ]
     },
     "execution_count": 65,
     "metadata": {},
     "output_type": "execute_result"
    },
    {
     "data": {
      "image/png": "[encoded data removed]",
      "text/plain": [
       "<Figure size 432x288 with 1 Axes>"
      ]
     },
     "metadata": {
      "needs_background": "light"
     },
     "output_type": "display_data"
    },
    {
     "data": {
      "text/plain": [
       "count    2930.000000\n",
       "mean     1499.690444\n",
       "std       505.508887\n",
       "min       334.000000\n",
       "25%      1126.000000\n",
       "50%      1442.000000\n",
       "75%      1742.750000\n",
       "max      5642.000000\n",
       "Name: grlivarea, dtype: float64"
      ]
     },
     "execution_count": 65,
     "metadata": {},
     "output_type": "execute_result"
    }
   ],
   "source": [
    "ames['grlivarea'].hist(bins=50, rwidth=.8, figsize=(14,4))\n",
    "plt.show()\n",
    "\n",
    "stats.probplot(ames['grlivarea'], plot=plt)\n",
    "plt.ylabel('grlivarea')\n",
    "plt.show()\n",
    "stats.probplot(np.log(ames['grlivarea']), plot=plt)\n",
    "plt.ylabel('log Gr Liv Area')\n",
    "plt.show()\n",
    "ames['grlivarea'].describe()"
   ]
  },
  {
   "cell_type": "markdown",
   "metadata": {},
   "source": [
    "## Predictive Modeling"
   ]
  },
  {
   "cell_type": "code",
   "execution_count": null,
   "metadata": {},
   "outputs": [],
   "source": [
    "from statsmodels.formula.api import ols\n",
    "from sklearn.model_selection import train_test_split\n",
    "\n",
    "target= subsetd['log_saleprice']\n",
    "df_train = subsetd.drop(['log_saleprice'],axis=1)\n",
    "x_train,x_test,y_train,y_test = train_test_split(df_train,target,test_size=0.33,random_state=0)\n",
    "# Split data into train and test\n",
    "ames_train = pd.concat([x_train, y_train], axis=1)\n",
    "#ames_train.head()\n",
    "ames_test = pd.concat([x_test, y_test], axis=1)"
   ]
  },
  {
   "cell_type": "code",
   "execution_count": null,
   "metadata": {},
   "outputs": [],
   "source": [
    "ames_train.shape\n",
    "ames_test.shape"
   ]
  },
  {
   "cell_type": "code",
   "execution_count": null,
   "metadata": {},
   "outputs": [],
   "source": [
    "formula = 'log_saleprice ~ totalsqft + totalbath + overallqual \\\n",
    "            + C(neighborbuckets) + age'\n",
    "ames_model = ols(formula, data=ames_train).fit()\n",
    "print(ames_model.summary())"
   ]
  },
  {
   "cell_type": "code",
   "execution_count": null,
   "metadata": {},
   "outputs": [],
   "source": [
    "print('Parameters: ', ames_model.params)\n",
    "print('R2: ', ames_model.rsquared)\n",
    "\n",
    "print('Standard errors: ', ames_model.bse)\n",
    "print('Predicted values: ', ames_model.predict())\n",
    "\n",
    "## Ref:https://www.statsmodels.org/stable/examples/notebooks/generated/ols.html"
   ]
  },
  {
   "cell_type": "code",
   "execution_count": null,
   "metadata": {},
   "outputs": [],
   "source": [
    "from sklearn.linear_model import LinearRegression\n",
    "lin_reg = LinearRegression(normalize=True)\n",
    "lin_reg.fit(x_train,y_train)\n",
    "print(lin_reg.fit)\n",
    "print(lin_reg.intercept_)\n",
    "coeff_df = pd.DataFrame(lin_reg.coef_, x_train.columns, columns=['Coefficient'])\n",
    "coeff_df"
   ]
  },
  {
   "cell_type": "code",
   "execution_count": null,
   "metadata": {},
   "outputs": [],
   "source": [
    "# Check for multicollinearity"
   ]
  },
  {
   "cell_type": "code",
   "execution_count": null,
   "metadata": {},
   "outputs": [],
   "source": [
    "subsetd.corr().style.background_gradient(cmap='coolwarm').set_precision(2)"
   ]
  },
  {
   "cell_type": "markdown",
   "metadata": {},
   "source": [
    "### Time Series "
   ]
  },
  {
   "cell_type": "code",
   "execution_count": null,
   "metadata": {},
   "outputs": [],
   "source": [
    "ames_ts = pd.DataFrame(ames.groupby(['yrmosold']).pid.count())\n",
    "ames_ts.info()\n",
    "ames_ts.head()\n",
    "ames_ts.tail()"
   ]
  },
  {
   "cell_type": "code",
   "execution_count": null,
   "metadata": {},
   "outputs": [],
   "source": [
    "fig = plt.figure(figsize=(12,8))\n",
    "ax = fig.add_subplot(111)\n",
    "ames_ts.pid.plot(ax=ax);\n",
    "legend = ax.legend(loc = 'upper left');\n",
    "legend.prop.set_size(20);"
   ]
  },
  {
   "cell_type": "markdown",
   "metadata": {},
   "source": [
    "## Decomposition of Time series into seasonal and trend "
   ]
  },
  {
   "cell_type": "code",
   "execution_count": null,
   "metadata": {},
   "outputs": [],
   "source": [
    "from statsmodels.tsa.seasonal import STL\n",
    "stl = STL(pd.Series(ames_ts.pid),period =12)\n",
    "res = stl.fit()\n",
    "fig = res.plot()"
   ]
  },
  {
   "cell_type": "markdown",
   "metadata": {},
   "source": [
    "### Extra"
   ]
  },
  {
   "cell_type": "markdown",
   "metadata": {},
   "source": [
    "### Plotting ACF and PACF"
   ]
  },
  {
   "cell_type": "code",
   "execution_count": null,
   "metadata": {},
   "outputs": [],
   "source": [
    "import statsmodels.api as sm\n",
    "from statsmodels.tsa.arima.model import ARIMA\n",
    "\n",
    "\n",
    "fig = plt.figure(figsize=(12,8))\n",
    "ax1 = fig.add_subplot(211)\n",
    "fig = sm.graphics.tsa.plot_acf(ames_ts.pid.squeeze(), lags=24, ax=ax1)\n",
    "ax2 = fig.add_subplot(212)\n",
    "fig = sm.graphics.tsa.plot_pacf(ames_ts, lags=24, ax=ax2)"
   ]
  },
  {
   "cell_type": "markdown",
   "metadata": {},
   "source": [
    "## Figuring whether Multiplicative model or aditive model is more useful"
   ]
  },
  {
   "cell_type": "code",
   "execution_count": null,
   "metadata": {},
   "outputs": [],
   "source": [
    "from statsmodels.tsa.seasonal import seasonal_decompose\n",
    "from dateutil.parser import parse\n",
    "\n",
    "# Multiplicative Decomposition \n",
    "result_mul = seasonal_decompose(ames_ts, model='multiplicative', period=12)\n",
    "\n",
    "# Additive Decomposition\n",
    "result_add = seasonal_decompose(ames_ts, model='additive', period=12)\n",
    "\n",
    "# Plot\n",
    "plt.rcParams.update({'figure.figsize': (10,10)})\n",
    "result_mul.plot().suptitle('Multiplicative Decompose', fontsize=22)\n",
    "result_add.plot().suptitle('Additive Decompose', fontsize=22)\n",
    "plt.show()"
   ]
  },
  {
   "cell_type": "markdown",
   "metadata": {},
   "source": [
    "## Fitting Models"
   ]
  },
  {
   "cell_type": "code",
   "execution_count": null,
   "metadata": {},
   "outputs": [],
   "source": [
    "arma_mod = ARIMA(ames_ts, order=(1, 2, 0)).fit()\n",
    "#print(arma_mod.summary())"
   ]
  },
  {
   "cell_type": "code",
   "execution_count": null,
   "metadata": {},
   "outputs": [],
   "source": [
    "arma_mod2 = ARIMA(ames_ts, order=(1, 0, 0)).fit()\n",
    "#print(arma_mod2.params)"
   ]
  },
  {
   "cell_type": "code",
   "execution_count": null,
   "metadata": {},
   "outputs": [],
   "source": [
    "fig = plt.figure(figsize=(12,8))\n",
    "ax = fig.add_subplot(111)\n",
    "ax = arma_mod.resid.plot(ax=ax);\n",
    "ax = fig.add_subplot(111)\n",
    "ax = arma_mod2.resid.plot(ax=ax);"
   ]
  },
  {
   "cell_type": "code",
   "execution_count": null,
   "metadata": {},
   "outputs": [],
   "source": []
  }
 ],
 "metadata": {
  "kernelspec": {
   "display_name": "Python 3",
   "language": "python",
   "name": "python3"
  },
  "language_info": {
   "codemirror_mode": {
    "name": "ipython",
    "version": 3
   },
   "file_extension": ".py",
   "mimetype": "text/x-python",
   "name": "python",
   "nbconvert_exporter": "python",
   "pygments_lexer": "ipython3",
   "version": "3.8.5"
  }
 },
 "nbformat": 4,
 "nbformat_minor": 4
}
